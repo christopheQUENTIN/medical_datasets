{
 "cells": [
  {
   "cell_type": "code",
   "execution_count": 1,
   "id": "81c3be41-aec7-473a-94d0-60a229b05312",
   "metadata": {},
   "outputs": [
    {
     "data": {
      "text/plain": [
       "'\\nhepatitis_csv :  https://www.kaggle.com/datasets/codebreaker619/hepatitis-data\\n\\nAbout Dataset\\nContent\\n\\nData for Hepatitis symptoms and results in various people of both the genders of various age groups. Hepatitis symptoms include\\nfatigue, anorexia, big liver, etc.\\n'"
      ]
     },
     "execution_count": 1,
     "metadata": {},
     "output_type": "execute_result"
    }
   ],
   "source": [
    "\"\"\"\n",
    "hepatitis_csv :  https://www.kaggle.com/datasets/codebreaker619/hepatitis-data\n",
    "\n",
    "About Dataset\n",
    "Content\n",
    "\n",
    "Data for Hepatitis symptoms and results in various people of both the genders of various age groups. Hepatitis symptoms include\n",
    "fatigue, anorexia, big liver, etc.\n",
    "\"\"\""
   ]
  },
  {
   "cell_type": "code",
   "execution_count": 2,
   "id": "fd596f8a-7396-4c70-9bde-e24aa2930a8a",
   "metadata": {},
   "outputs": [],
   "source": [
    "import numpy as np\n",
    "import pandas as pd\n",
    "import seaborn as sns\n",
    "\n",
    "from sklearn.datasets import fetch_openml\n",
    "\n",
    "import matplotlib.pyplot as plt\n",
    "\n",
    "import missingno as msno\n",
    "\n",
    "\n",
    "%matplotlib inline"
   ]
  },
  {
   "cell_type": "code",
   "execution_count": 3,
   "id": "71d20f21-2247-4ba9-ac00-cd2e033f666a",
   "metadata": {},
   "outputs": [],
   "source": [
    "file_csv = \"hepatitis_csv.csv\"\n",
    "\n",
    "df = pd.read_csv(file_csv)"
   ]
  },
  {
   "cell_type": "code",
   "execution_count": 4,
   "id": "3f2d0883-d8ce-41e6-93be-632e2abe26ba",
   "metadata": {},
   "outputs": [
    {
     "data": {
      "text/plain": [
       "(155, 20)"
      ]
     },
     "execution_count": 4,
     "metadata": {},
     "output_type": "execute_result"
    }
   ],
   "source": [
    "df.shape"
   ]
  },
  {
   "cell_type": "code",
   "execution_count": 5,
   "id": "b1382208-34a8-46f8-b620-2076f2fdb327",
   "metadata": {},
   "outputs": [
    {
     "data": {
      "text/plain": [
       "Index(['age', 'sex', 'steroid', 'antivirals', 'fatigue', 'malaise', 'anorexia',\n",
       "       'liver_big', 'liver_firm', 'spleen_palpable', 'spiders', 'ascites',\n",
       "       'varices', 'bilirubin', 'alk_phosphate', 'sgot', 'albumin', 'protime',\n",
       "       'histology', 'class'],\n",
       "      dtype='object')"
      ]
     },
     "execution_count": 5,
     "metadata": {},
     "output_type": "execute_result"
    }
   ],
   "source": [
    "df.columns"
   ]
  },
  {
   "cell_type": "code",
   "execution_count": 6,
   "id": "2fe66bb6-83cb-46de-b5de-ce849b8d7dce",
   "metadata": {},
   "outputs": [],
   "source": [
    "for colname in list(df.columns):\n",
    "    colnamestriped = colname.strip()\n",
    "    df=df.rename(columns = {colname:colnamestriped})\n",
    "    \n",
    "    \n",
    "    #'Malaria '\n",
    "    #' Cirrhosis and other chronic liver diseases'"
   ]
  },
  {
   "cell_type": "code",
   "execution_count": 7,
   "id": "cb270585-2298-4c3d-a29a-868031a4ff13",
   "metadata": {},
   "outputs": [
    {
     "name": "stdout",
     "output_type": "stream",
     "text": [
      " 0  -> age\n",
      " 1  -> sex\n",
      " 2  -> steroid\n",
      " 3  -> antivirals\n",
      " 4  -> fatigue\n",
      " 5  -> malaise\n",
      " 6  -> anorexia\n",
      " 7  -> liver_big\n",
      " 8  -> liver_firm\n",
      " 9  -> spleen_palpable\n",
      " 10  -> spiders\n",
      " 11  -> ascites\n",
      " 12  -> varices\n",
      " 13  -> bilirubin\n",
      " 14  -> alk_phosphate\n",
      " 15  -> sgot\n",
      " 16  -> albumin\n",
      " 17  -> protime\n",
      " 18  -> histology\n",
      " 19  -> class\n"
     ]
    }
   ],
   "source": [
    "column_names = df.columns\n",
    "\n",
    "list_column_names = list(column_names)\n",
    "\n",
    "for colname in list_column_names:\n",
    "    print(f\" {list_column_names.index(colname)}  -> {colname}\")"
   ]
  },
  {
   "cell_type": "code",
   "execution_count": 8,
   "id": "e9a9df9e-9d6f-4afe-a220-c56ec72e4242",
   "metadata": {},
   "outputs": [
    {
     "data": {
      "text/plain": [
       "['age',\n",
       " 'sex',\n",
       " 'steroid',\n",
       " 'antivirals',\n",
       " 'fatigue',\n",
       " 'malaise',\n",
       " 'anorexia',\n",
       " 'liver_big',\n",
       " 'liver_firm',\n",
       " 'spleen_palpable',\n",
       " 'spiders',\n",
       " 'ascites',\n",
       " 'varices',\n",
       " 'bilirubin',\n",
       " 'alk_phosphate',\n",
       " 'sgot',\n",
       " 'albumin',\n",
       " 'protime',\n",
       " 'histology',\n",
       " 'class']"
      ]
     },
     "execution_count": 8,
     "metadata": {},
     "output_type": "execute_result"
    }
   ],
   "source": [
    "features = df.columns[:]\n",
    "features = list(features)\n",
    "features"
   ]
  },
  {
   "cell_type": "code",
   "execution_count": 9,
   "id": "26f26337-856e-4cf5-9224-cb02add0ec3d",
   "metadata": {},
   "outputs": [],
   "source": [
    "float_cols = [column for column in df.columns if df.dtypes[column] == 'float']\n",
    "\n",
    "int_cols = [column for column in df.columns if df.dtypes[column] == 'int']\n",
    "\n",
    "\n",
    "numeric_cols = [column for column in df.columns if (df.dtypes[column] == 'float') or (df.dtypes[column] == 'int')]\n",
    "\n",
    "categorical_cols = [column for column in df.columns if df.dtypes[column] == 'object']\n",
    "\n",
    "bool_cols = [column for column in df.columns if df.dtypes[column] == 'bool']"
   ]
  },
  {
   "cell_type": "code",
   "execution_count": 10,
   "id": "ccb6351b-f6cd-44ad-9959-c5ab315d261c",
   "metadata": {},
   "outputs": [
    {
     "name": "stdout",
     "output_type": "stream",
     "text": [
      "['bilirubin', 'alk_phosphate', 'sgot', 'albumin', 'protime']\n"
     ]
    }
   ],
   "source": [
    "print(float_cols)"
   ]
  },
  {
   "cell_type": "code",
   "execution_count": 11,
   "id": "8c722aaa-6fc9-400a-bce9-f7261fe1ab42",
   "metadata": {},
   "outputs": [
    {
     "name": "stdout",
     "output_type": "stream",
     "text": [
      "['age']\n"
     ]
    }
   ],
   "source": [
    "print(int_cols)"
   ]
  },
  {
   "cell_type": "code",
   "execution_count": 12,
   "id": "7bae5400-eb69-41a7-8989-8af99f009073",
   "metadata": {},
   "outputs": [
    {
     "name": "stdout",
     "output_type": "stream",
     "text": [
      "['sex', 'steroid', 'fatigue', 'malaise', 'anorexia', 'liver_big', 'liver_firm', 'spleen_palpable', 'spiders', 'ascites', 'varices', 'class']\n"
     ]
    }
   ],
   "source": [
    "print(categorical_cols)"
   ]
  },
  {
   "cell_type": "code",
   "execution_count": 13,
   "id": "17e26da7-503e-4ab6-9a63-0939ce99de05",
   "metadata": {},
   "outputs": [
    {
     "name": "stdout",
     "output_type": "stream",
     "text": [
      "['antivirals', 'histology']\n"
     ]
    }
   ],
   "source": [
    "print(bool_cols)"
   ]
  },
  {
   "cell_type": "code",
   "execution_count": 14,
   "id": "d73dcd65-8c20-4a58-885c-4910a130ab93",
   "metadata": {},
   "outputs": [
    {
     "data": {
      "text/plain": [
       "0"
      ]
     },
     "execution_count": 14,
     "metadata": {},
     "output_type": "execute_result"
    }
   ],
   "source": [
    "df.duplicated().sum()"
   ]
  },
  {
   "cell_type": "code",
   "execution_count": 15,
   "id": "6cdc8587-8667-4325-a585-c1ea1621f7db",
   "metadata": {},
   "outputs": [
    {
     "data": {
      "text/plain": [
       "(155, 20)"
      ]
     },
     "execution_count": 15,
     "metadata": {},
     "output_type": "execute_result"
    }
   ],
   "source": [
    "df.shape"
   ]
  },
  {
   "cell_type": "code",
   "execution_count": 16,
   "id": "49d51a03-9625-4c5c-8e8f-f80cd492eaa7",
   "metadata": {},
   "outputs": [],
   "source": [
    "N_ROWS = df.shape[0]\n",
    "\n",
    "N_COLS = df.shape[1]\n"
   ]
  },
  {
   "cell_type": "code",
   "execution_count": 17,
   "id": "e4d35ded-5b17-4658-a925-60325c38e5ba",
   "metadata": {},
   "outputs": [
    {
     "data": {
      "text/plain": [
       "(155, 20)"
      ]
     },
     "execution_count": 17,
     "metadata": {},
     "output_type": "execute_result"
    }
   ],
   "source": [
    "\n",
    "\n",
    "df.drop_duplicates(subset=None, keep='first', inplace=True)\n",
    "df.shape\n",
    "\n"
   ]
  },
  {
   "cell_type": "code",
   "execution_count": 18,
   "id": "5b584a65-0b84-4100-b86d-35d17a098b9e",
   "metadata": {},
   "outputs": [
    {
     "name": "stdout",
     "output_type": "stream",
     "text": [
      " \n",
      "\n",
      "  bilirubin .isna().sum()  =  6   =>    3.87 % NaN  \n",
      "\n",
      "___________________________________________\n",
      " \n",
      "\n",
      "  alk_phosphate .isna().sum()  =  29   =>    18.71 % NaN  \n",
      "\n",
      "___________________________________________\n",
      " \n",
      "\n",
      "  sgot .isna().sum()  =  4   =>    2.58 % NaN  \n",
      "\n",
      "___________________________________________\n",
      " \n",
      "\n",
      "  albumin .isna().sum()  =  16   =>    10.32 % NaN  \n",
      "\n",
      "___________________________________________\n",
      " \n",
      "\n",
      "  protime .isna().sum()  =  67   =>    43.23 % NaN  \n",
      "\n",
      "___________________________________________\n"
     ]
    }
   ],
   "source": [
    "for fcol in float_cols:\n",
    "    fcol_isna_sum = df[fcol].isna().sum()\n",
    "    \n",
    "    col_nan_percent = 100*(fcol_isna_sum/N_ROWS)\n",
    "    \n",
    "    col_nan_percent = round(col_nan_percent,2)\n",
    "    \n",
    "    \n",
    "    print(f\" \\n\\n  {fcol} .isna().sum()  =  {fcol_isna_sum}   =>    {col_nan_percent} % NaN  \\n\")\n",
    "    print(\"___________________________________________\")\n",
    "    \n",
    "    "
   ]
  },
  {
   "cell_type": "code",
   "execution_count": 19,
   "id": "42cbefc2-b396-4910-8a2f-b3da90a888b1",
   "metadata": {},
   "outputs": [
    {
     "name": "stdout",
     "output_type": "stream",
     "text": [
      " \n",
      "\n",
      "  antivirals \n",
      " \n",
      "False    131\n",
      "True      24\n",
      "Name: antivirals, dtype: int64\n",
      "___________________________________________\n",
      " \n",
      "\n",
      "  histology \n",
      " \n",
      "False    85\n",
      "True     70\n",
      "Name: histology, dtype: int64\n",
      "___________________________________________\n"
     ]
    }
   ],
   "source": [
    "for bcol in bool_cols:\n",
    "    print(f\" \\n\\n  {bcol} \\n \")\n",
    "    print(df[bcol].value_counts(dropna=False))\n",
    "    print(\"___________________________________________\")"
   ]
  },
  {
   "cell_type": "code",
   "execution_count": 20,
   "id": "1342bbe9-e582-4286-b6ac-5ca9690f1263",
   "metadata": {},
   "outputs": [
    {
     "name": "stdout",
     "output_type": "stream",
     "text": [
      " \n",
      "\n",
      "  sex \n",
      " \n",
      "female    139\n",
      "male       16\n",
      "Name: sex, dtype: int64\n",
      "___________________________________________\n",
      " \n",
      "\n",
      "  steroid \n",
      " \n",
      "True     78\n",
      "False    76\n",
      "NaN       1\n",
      "Name: steroid, dtype: int64\n",
      "___________________________________________\n",
      " \n",
      "\n",
      "  fatigue \n",
      " \n",
      "True     100\n",
      "False     54\n",
      "NaN        1\n",
      "Name: fatigue, dtype: int64\n",
      "___________________________________________\n",
      " \n",
      "\n",
      "  malaise \n",
      " \n",
      "False    93\n",
      "True     61\n",
      "NaN       1\n",
      "Name: malaise, dtype: int64\n",
      "___________________________________________\n",
      " \n",
      "\n",
      "  anorexia \n",
      " \n",
      "False    122\n",
      "True      32\n",
      "NaN        1\n",
      "Name: anorexia, dtype: int64\n",
      "___________________________________________\n",
      " \n",
      "\n",
      "  liver_big \n",
      " \n",
      "True     120\n",
      "False     25\n",
      "NaN       10\n",
      "Name: liver_big, dtype: int64\n",
      "___________________________________________\n",
      " \n",
      "\n",
      "  liver_firm \n",
      " \n",
      "False    84\n",
      "True     60\n",
      "NaN      11\n",
      "Name: liver_firm, dtype: int64\n",
      "___________________________________________\n",
      " \n",
      "\n",
      "  spleen_palpable \n",
      " \n",
      "False    120\n",
      "True      30\n",
      "NaN        5\n",
      "Name: spleen_palpable, dtype: int64\n",
      "___________________________________________\n",
      " \n",
      "\n",
      "  spiders \n",
      " \n",
      "False    99\n",
      "True     51\n",
      "NaN       5\n",
      "Name: spiders, dtype: int64\n",
      "___________________________________________\n",
      " \n",
      "\n",
      "  ascites \n",
      " \n",
      "False    130\n",
      "True      20\n",
      "NaN        5\n",
      "Name: ascites, dtype: int64\n",
      "___________________________________________\n",
      " \n",
      "\n",
      "  varices \n",
      " \n",
      "False    132\n",
      "True      18\n",
      "NaN        5\n",
      "Name: varices, dtype: int64\n",
      "___________________________________________\n",
      " \n",
      "\n",
      "  class \n",
      " \n",
      "live    123\n",
      "die      32\n",
      "Name: class, dtype: int64\n",
      "___________________________________________\n"
     ]
    }
   ],
   "source": [
    "for categ in categorical_cols:\n",
    "    print(f\" \\n\\n  {categ} \\n \")\n",
    "    print(df[categ].value_counts(dropna=False))\n",
    "    print(\"___________________________________________\")"
   ]
  },
  {
   "cell_type": "code",
   "execution_count": 21,
   "id": "0aca69a0-7149-40f8-b375-8e118ef206f0",
   "metadata": {},
   "outputs": [
    {
     "data": {
      "text/plain": [
       "'\\nfig = plt.figure(figsize=(25, 18))\\n\\n\\n\\nfig.patch.set_facecolor(\\'lightgrey\\')\\n\\n\\n\\nyticks=np.arange(0,df.shape[0],5000)\\n\\nplt.yticks(yticks)\\nplt.imshow(df.isna(), aspect=\"auto\", interpolation=\"nearest\", cmap=\"gray\");\\n\\nfig.suptitle(\\'null cells distribution\\', fontsize=20)\\nplt.xlabel(\\'columns indexes\\', fontsize=18)\\nplt.ylabel(\\'entries indexes\\', fontsize=16)\\n'"
      ]
     },
     "execution_count": 21,
     "metadata": {},
     "output_type": "execute_result"
    }
   ],
   "source": [
    "\"\"\"\n",
    "fig = plt.figure(figsize=(25, 18))\n",
    "\n",
    "\n",
    "\n",
    "fig.patch.set_facecolor('lightgrey')\n",
    "\n",
    "\n",
    "\n",
    "yticks=np.arange(0,df.shape[0],5000)\n",
    "\n",
    "plt.yticks(yticks)\n",
    "plt.imshow(df.isna(), aspect=\"auto\", interpolation=\"nearest\", cmap=\"gray\");\n",
    "\n",
    "fig.suptitle('null cells distribution', fontsize=20)\n",
    "plt.xlabel('columns indexes', fontsize=18)\n",
    "plt.ylabel('entries indexes', fontsize=16)\n",
    "\"\"\""
   ]
  },
  {
   "cell_type": "code",
   "execution_count": 22,
   "id": "a9d0c102-9ad4-4720-aad0-2a3d78f8bfb4",
   "metadata": {},
   "outputs": [
    {
     "data": {
      "image/png": "[encoded data removed]",
      "text/plain": [
       "<Figure size 1800x720 with 2 Axes>"
      ]
     },
     "metadata": {
      "needs_background": "light"
     },
     "output_type": "display_data"
    }
   ],
   "source": [
    "\n",
    "\"\"\"\n",
    "df_left = df. iloc[:, 0:50]\n",
    "df_right = df. iloc[:, 49:]\n",
    "\"\"\"\n",
    "msno.matrix(df, labels=True);\n",
    "\n"
   ]
  },
  {
   "cell_type": "code",
   "execution_count": 23,
   "id": "f901847b-00a9-475e-a32d-b06b25ab2a28",
   "metadata": {},
   "outputs": [
    {
     "data": {
      "text/html": [
       "<div>\n",
       "<style scoped>\n",
       "    .dataframe tbody tr th:only-of-type {\n",
       "        vertical-align: middle;\n",
       "    }\n",
       "\n",
       "    .dataframe tbody tr th {\n",
       "        vertical-align: top;\n",
       "    }\n",
       "\n",
       "    .dataframe thead th {\n",
       "        text-align: right;\n",
       "    }\n",
       "</style>\n",
       "<table border=\"1\" class=\"dataframe\">\n",
       "  <thead>\n",
       "    <tr style=\"text-align: right;\">\n",
       "      <th></th>\n",
       "      <th>age</th>\n",
       "      <th>sex</th>\n",
       "      <th>steroid</th>\n",
       "      <th>antivirals</th>\n",
       "      <th>fatigue</th>\n",
       "      <th>malaise</th>\n",
       "      <th>anorexia</th>\n",
       "      <th>liver_big</th>\n",
       "      <th>liver_firm</th>\n",
       "      <th>spleen_palpable</th>\n",
       "      <th>spiders</th>\n",
       "      <th>ascites</th>\n",
       "      <th>varices</th>\n",
       "      <th>bilirubin</th>\n",
       "      <th>alk_phosphate</th>\n",
       "      <th>sgot</th>\n",
       "      <th>albumin</th>\n",
       "      <th>protime</th>\n",
       "      <th>histology</th>\n",
       "      <th>class</th>\n",
       "    </tr>\n",
       "  </thead>\n",
       "  <tbody>\n",
       "    <tr>\n",
       "      <th>55</th>\n",
       "      <td>37</td>\n",
       "      <td>female</td>\n",
       "      <td>False</td>\n",
       "      <td>False</td>\n",
       "      <td>True</td>\n",
       "      <td>True</td>\n",
       "      <td>True</td>\n",
       "      <td>True</td>\n",
       "      <td>False</td>\n",
       "      <td>False</td>\n",
       "      <td>False</td>\n",
       "      <td>False</td>\n",
       "      <td>False</td>\n",
       "      <td>0.8</td>\n",
       "      <td>92.0</td>\n",
       "      <td>59.0</td>\n",
       "      <td>NaN</td>\n",
       "      <td>NaN</td>\n",
       "      <td>False</td>\n",
       "      <td>live</td>\n",
       "    </tr>\n",
       "    <tr>\n",
       "      <th>56</th>\n",
       "      <td>34</td>\n",
       "      <td>female</td>\n",
       "      <td>False</td>\n",
       "      <td>False</td>\n",
       "      <td>NaN</td>\n",
       "      <td>NaN</td>\n",
       "      <td>NaN</td>\n",
       "      <td>NaN</td>\n",
       "      <td>NaN</td>\n",
       "      <td>NaN</td>\n",
       "      <td>NaN</td>\n",
       "      <td>NaN</td>\n",
       "      <td>NaN</td>\n",
       "      <td>NaN</td>\n",
       "      <td>NaN</td>\n",
       "      <td>NaN</td>\n",
       "      <td>NaN</td>\n",
       "      <td>NaN</td>\n",
       "      <td>False</td>\n",
       "      <td>live</td>\n",
       "    </tr>\n",
       "    <tr>\n",
       "      <th>57</th>\n",
       "      <td>30</td>\n",
       "      <td>female</td>\n",
       "      <td>True</td>\n",
       "      <td>True</td>\n",
       "      <td>False</td>\n",
       "      <td>False</td>\n",
       "      <td>False</td>\n",
       "      <td>True</td>\n",
       "      <td>False</td>\n",
       "      <td>False</td>\n",
       "      <td>False</td>\n",
       "      <td>False</td>\n",
       "      <td>False</td>\n",
       "      <td>0.7</td>\n",
       "      <td>52.0</td>\n",
       "      <td>38.0</td>\n",
       "      <td>3.9</td>\n",
       "      <td>52.0</td>\n",
       "      <td>False</td>\n",
       "      <td>live</td>\n",
       "    </tr>\n",
       "    <tr>\n",
       "      <th>58</th>\n",
       "      <td>64</td>\n",
       "      <td>female</td>\n",
       "      <td>True</td>\n",
       "      <td>True</td>\n",
       "      <td>True</td>\n",
       "      <td>True</td>\n",
       "      <td>False</td>\n",
       "      <td>False</td>\n",
       "      <td>True</td>\n",
       "      <td>False</td>\n",
       "      <td>False</td>\n",
       "      <td>False</td>\n",
       "      <td>False</td>\n",
       "      <td>1.0</td>\n",
       "      <td>80.0</td>\n",
       "      <td>38.0</td>\n",
       "      <td>4.3</td>\n",
       "      <td>74.0</td>\n",
       "      <td>False</td>\n",
       "      <td>live</td>\n",
       "    </tr>\n",
       "    <tr>\n",
       "      <th>59</th>\n",
       "      <td>45</td>\n",
       "      <td>male</td>\n",
       "      <td>False</td>\n",
       "      <td>False</td>\n",
       "      <td>True</td>\n",
       "      <td>True</td>\n",
       "      <td>False</td>\n",
       "      <td>True</td>\n",
       "      <td>False</td>\n",
       "      <td>True</td>\n",
       "      <td>False</td>\n",
       "      <td>False</td>\n",
       "      <td>False</td>\n",
       "      <td>1.0</td>\n",
       "      <td>85.0</td>\n",
       "      <td>75.0</td>\n",
       "      <td>NaN</td>\n",
       "      <td>NaN</td>\n",
       "      <td>False</td>\n",
       "      <td>live</td>\n",
       "    </tr>\n",
       "  </tbody>\n",
       "</table>\n",
       "</div>"
      ],
      "text/plain": [
       "    age     sex steroid  antivirals fatigue malaise anorexia liver_big  \\\n",
       "55   37  female   False       False    True    True     True      True   \n",
       "56   34  female   False       False     NaN     NaN      NaN       NaN   \n",
       "57   30  female    True        True   False   False    False      True   \n",
       "58   64  female    True        True    True    True    False     False   \n",
       "59   45    male   False       False    True    True    False      True   \n",
       "\n",
       "   liver_firm spleen_palpable spiders ascites varices  bilirubin  \\\n",
       "55      False           False   False   False   False        0.8   \n",
       "56        NaN             NaN     NaN     NaN     NaN        NaN   \n",
       "57      False           False   False   False   False        0.7   \n",
       "58       True           False   False   False   False        1.0   \n",
       "59      False            True   False   False   False        1.0   \n",
       "\n",
       "    alk_phosphate  sgot  albumin  protime  histology class  \n",
       "55           92.0  59.0      NaN      NaN      False  live  \n",
       "56            NaN   NaN      NaN      NaN      False  live  \n",
       "57           52.0  38.0      3.9     52.0      False  live  \n",
       "58           80.0  38.0      4.3     74.0      False  live  \n",
       "59           85.0  75.0      NaN      NaN      False  live  "
      ]
     },
     "execution_count": 23,
     "metadata": {},
     "output_type": "execute_result"
    }
   ],
   "source": [
    "df.iloc[55:60,:]"
   ]
  },
  {
   "cell_type": "code",
   "execution_count": 24,
   "id": "51527e92-4267-4c55-a02d-fdb499f5e526",
   "metadata": {},
   "outputs": [
    {
     "data": {
      "text/plain": [
       "Text(0, 0.5, 'missing rate')"
      ]
     },
     "execution_count": 24,
     "metadata": {},
     "output_type": "execute_result"
    },
    {
     "data": {
      "image/png": "[encoded data removed]",
      "text/plain": [
       "<Figure size 1800x1008 with 1 Axes>"
      ]
     },
     "metadata": {
      "needs_background": "light"
     },
     "output_type": "display_data"
    }
   ],
   "source": [
    "fig = df.isna().mean().sort_values().plot(\n",
    "    kind=\"bar\", figsize=(25, 14), title=\"Percentage of missing values per feature\");\n",
    "\n",
    "plt.xlabel('features', fontsize=18)\n",
    "plt.ylabel('missing rate', fontsize=16)"
   ]
  },
  {
   "cell_type": "code",
   "execution_count": 25,
   "id": "7028c695-7c9f-44e9-a9bd-8b2f473be6b5",
   "metadata": {},
   "outputs": [],
   "source": [
    "pd.set_option('display.max_columns',None)"
   ]
  },
  {
   "cell_type": "code",
   "execution_count": 26,
   "id": "e4c887bf-2b65-4fef-990c-9df39ddec13a",
   "metadata": {},
   "outputs": [
    {
     "data": {
      "text/html": [
       "<div>\n",
       "<style scoped>\n",
       "    .dataframe tbody tr th:only-of-type {\n",
       "        vertical-align: middle;\n",
       "    }\n",
       "\n",
       "    .dataframe tbody tr th {\n",
       "        vertical-align: top;\n",
       "    }\n",
       "\n",
       "    .dataframe thead th {\n",
       "        text-align: right;\n",
       "    }\n",
       "</style>\n",
       "<table border=\"1\" class=\"dataframe\">\n",
       "  <thead>\n",
       "    <tr style=\"text-align: right;\">\n",
       "      <th></th>\n",
       "      <th>age</th>\n",
       "      <th>sex</th>\n",
       "      <th>steroid</th>\n",
       "      <th>antivirals</th>\n",
       "      <th>fatigue</th>\n",
       "      <th>malaise</th>\n",
       "      <th>anorexia</th>\n",
       "      <th>liver_big</th>\n",
       "      <th>liver_firm</th>\n",
       "      <th>spleen_palpable</th>\n",
       "      <th>spiders</th>\n",
       "      <th>ascites</th>\n",
       "      <th>varices</th>\n",
       "      <th>bilirubin</th>\n",
       "      <th>alk_phosphate</th>\n",
       "      <th>sgot</th>\n",
       "      <th>albumin</th>\n",
       "      <th>protime</th>\n",
       "      <th>histology</th>\n",
       "      <th>class</th>\n",
       "    </tr>\n",
       "  </thead>\n",
       "  <tbody>\n",
       "    <tr>\n",
       "      <th>0</th>\n",
       "      <td>30</td>\n",
       "      <td>male</td>\n",
       "      <td>False</td>\n",
       "      <td>False</td>\n",
       "      <td>False</td>\n",
       "      <td>False</td>\n",
       "      <td>False</td>\n",
       "      <td>False</td>\n",
       "      <td>False</td>\n",
       "      <td>False</td>\n",
       "      <td>False</td>\n",
       "      <td>False</td>\n",
       "      <td>False</td>\n",
       "      <td>1.0</td>\n",
       "      <td>85.0</td>\n",
       "      <td>18.0</td>\n",
       "      <td>4.0</td>\n",
       "      <td>NaN</td>\n",
       "      <td>False</td>\n",
       "      <td>live</td>\n",
       "    </tr>\n",
       "    <tr>\n",
       "      <th>1</th>\n",
       "      <td>50</td>\n",
       "      <td>female</td>\n",
       "      <td>False</td>\n",
       "      <td>False</td>\n",
       "      <td>True</td>\n",
       "      <td>False</td>\n",
       "      <td>False</td>\n",
       "      <td>False</td>\n",
       "      <td>False</td>\n",
       "      <td>False</td>\n",
       "      <td>False</td>\n",
       "      <td>False</td>\n",
       "      <td>False</td>\n",
       "      <td>0.9</td>\n",
       "      <td>135.0</td>\n",
       "      <td>42.0</td>\n",
       "      <td>3.5</td>\n",
       "      <td>NaN</td>\n",
       "      <td>False</td>\n",
       "      <td>live</td>\n",
       "    </tr>\n",
       "    <tr>\n",
       "      <th>2</th>\n",
       "      <td>78</td>\n",
       "      <td>female</td>\n",
       "      <td>True</td>\n",
       "      <td>False</td>\n",
       "      <td>True</td>\n",
       "      <td>False</td>\n",
       "      <td>False</td>\n",
       "      <td>True</td>\n",
       "      <td>False</td>\n",
       "      <td>False</td>\n",
       "      <td>False</td>\n",
       "      <td>False</td>\n",
       "      <td>False</td>\n",
       "      <td>0.7</td>\n",
       "      <td>96.0</td>\n",
       "      <td>32.0</td>\n",
       "      <td>4.0</td>\n",
       "      <td>NaN</td>\n",
       "      <td>False</td>\n",
       "      <td>live</td>\n",
       "    </tr>\n",
       "    <tr>\n",
       "      <th>3</th>\n",
       "      <td>31</td>\n",
       "      <td>female</td>\n",
       "      <td>NaN</td>\n",
       "      <td>True</td>\n",
       "      <td>False</td>\n",
       "      <td>False</td>\n",
       "      <td>False</td>\n",
       "      <td>True</td>\n",
       "      <td>False</td>\n",
       "      <td>False</td>\n",
       "      <td>False</td>\n",
       "      <td>False</td>\n",
       "      <td>False</td>\n",
       "      <td>0.7</td>\n",
       "      <td>46.0</td>\n",
       "      <td>52.0</td>\n",
       "      <td>4.0</td>\n",
       "      <td>80.0</td>\n",
       "      <td>False</td>\n",
       "      <td>live</td>\n",
       "    </tr>\n",
       "    <tr>\n",
       "      <th>4</th>\n",
       "      <td>34</td>\n",
       "      <td>female</td>\n",
       "      <td>True</td>\n",
       "      <td>False</td>\n",
       "      <td>False</td>\n",
       "      <td>False</td>\n",
       "      <td>False</td>\n",
       "      <td>True</td>\n",
       "      <td>False</td>\n",
       "      <td>False</td>\n",
       "      <td>False</td>\n",
       "      <td>False</td>\n",
       "      <td>False</td>\n",
       "      <td>1.0</td>\n",
       "      <td>NaN</td>\n",
       "      <td>200.0</td>\n",
       "      <td>4.0</td>\n",
       "      <td>NaN</td>\n",
       "      <td>False</td>\n",
       "      <td>live</td>\n",
       "    </tr>\n",
       "    <tr>\n",
       "      <th>5</th>\n",
       "      <td>34</td>\n",
       "      <td>female</td>\n",
       "      <td>True</td>\n",
       "      <td>False</td>\n",
       "      <td>False</td>\n",
       "      <td>False</td>\n",
       "      <td>False</td>\n",
       "      <td>True</td>\n",
       "      <td>False</td>\n",
       "      <td>False</td>\n",
       "      <td>False</td>\n",
       "      <td>False</td>\n",
       "      <td>False</td>\n",
       "      <td>0.9</td>\n",
       "      <td>95.0</td>\n",
       "      <td>28.0</td>\n",
       "      <td>4.0</td>\n",
       "      <td>75.0</td>\n",
       "      <td>False</td>\n",
       "      <td>live</td>\n",
       "    </tr>\n",
       "    <tr>\n",
       "      <th>6</th>\n",
       "      <td>51</td>\n",
       "      <td>female</td>\n",
       "      <td>False</td>\n",
       "      <td>False</td>\n",
       "      <td>True</td>\n",
       "      <td>False</td>\n",
       "      <td>True</td>\n",
       "      <td>True</td>\n",
       "      <td>False</td>\n",
       "      <td>True</td>\n",
       "      <td>True</td>\n",
       "      <td>False</td>\n",
       "      <td>False</td>\n",
       "      <td>NaN</td>\n",
       "      <td>NaN</td>\n",
       "      <td>NaN</td>\n",
       "      <td>NaN</td>\n",
       "      <td>NaN</td>\n",
       "      <td>False</td>\n",
       "      <td>die</td>\n",
       "    </tr>\n",
       "    <tr>\n",
       "      <th>7</th>\n",
       "      <td>23</td>\n",
       "      <td>female</td>\n",
       "      <td>True</td>\n",
       "      <td>False</td>\n",
       "      <td>False</td>\n",
       "      <td>False</td>\n",
       "      <td>False</td>\n",
       "      <td>True</td>\n",
       "      <td>False</td>\n",
       "      <td>False</td>\n",
       "      <td>False</td>\n",
       "      <td>False</td>\n",
       "      <td>False</td>\n",
       "      <td>1.0</td>\n",
       "      <td>NaN</td>\n",
       "      <td>NaN</td>\n",
       "      <td>NaN</td>\n",
       "      <td>NaN</td>\n",
       "      <td>False</td>\n",
       "      <td>live</td>\n",
       "    </tr>\n",
       "    <tr>\n",
       "      <th>8</th>\n",
       "      <td>39</td>\n",
       "      <td>female</td>\n",
       "      <td>True</td>\n",
       "      <td>False</td>\n",
       "      <td>True</td>\n",
       "      <td>False</td>\n",
       "      <td>False</td>\n",
       "      <td>True</td>\n",
       "      <td>True</td>\n",
       "      <td>False</td>\n",
       "      <td>False</td>\n",
       "      <td>False</td>\n",
       "      <td>False</td>\n",
       "      <td>0.7</td>\n",
       "      <td>NaN</td>\n",
       "      <td>48.0</td>\n",
       "      <td>4.4</td>\n",
       "      <td>NaN</td>\n",
       "      <td>False</td>\n",
       "      <td>live</td>\n",
       "    </tr>\n",
       "    <tr>\n",
       "      <th>9</th>\n",
       "      <td>30</td>\n",
       "      <td>female</td>\n",
       "      <td>True</td>\n",
       "      <td>False</td>\n",
       "      <td>False</td>\n",
       "      <td>False</td>\n",
       "      <td>False</td>\n",
       "      <td>True</td>\n",
       "      <td>False</td>\n",
       "      <td>False</td>\n",
       "      <td>False</td>\n",
       "      <td>False</td>\n",
       "      <td>False</td>\n",
       "      <td>1.0</td>\n",
       "      <td>NaN</td>\n",
       "      <td>120.0</td>\n",
       "      <td>3.9</td>\n",
       "      <td>NaN</td>\n",
       "      <td>False</td>\n",
       "      <td>live</td>\n",
       "    </tr>\n",
       "  </tbody>\n",
       "</table>\n",
       "</div>"
      ],
      "text/plain": [
       "   age     sex steroid  antivirals fatigue malaise anorexia liver_big  \\\n",
       "0   30    male   False       False   False   False    False     False   \n",
       "1   50  female   False       False    True   False    False     False   \n",
       "2   78  female    True       False    True   False    False      True   \n",
       "3   31  female     NaN        True   False   False    False      True   \n",
       "4   34  female    True       False   False   False    False      True   \n",
       "5   34  female    True       False   False   False    False      True   \n",
       "6   51  female   False       False    True   False     True      True   \n",
       "7   23  female    True       False   False   False    False      True   \n",
       "8   39  female    True       False    True   False    False      True   \n",
       "9   30  female    True       False   False   False    False      True   \n",
       "\n",
       "  liver_firm spleen_palpable spiders ascites varices  bilirubin  \\\n",
       "0      False           False   False   False   False        1.0   \n",
       "1      False           False   False   False   False        0.9   \n",
       "2      False           False   False   False   False        0.7   \n",
       "3      False           False   False   False   False        0.7   \n",
       "4      False           False   False   False   False        1.0   \n",
       "5      False           False   False   False   False        0.9   \n",
       "6      False            True    True   False   False        NaN   \n",
       "7      False           False   False   False   False        1.0   \n",
       "8       True           False   False   False   False        0.7   \n",
       "9      False           False   False   False   False        1.0   \n",
       "\n",
       "   alk_phosphate   sgot  albumin  protime  histology class  \n",
       "0           85.0   18.0      4.0      NaN      False  live  \n",
       "1          135.0   42.0      3.5      NaN      False  live  \n",
       "2           96.0   32.0      4.0      NaN      False  live  \n",
       "3           46.0   52.0      4.0     80.0      False  live  \n",
       "4            NaN  200.0      4.0      NaN      False  live  \n",
       "5           95.0   28.0      4.0     75.0      False  live  \n",
       "6            NaN    NaN      NaN      NaN      False   die  \n",
       "7            NaN    NaN      NaN      NaN      False  live  \n",
       "8            NaN   48.0      4.4      NaN      False  live  \n",
       "9            NaN  120.0      3.9      NaN      False  live  "
      ]
     },
     "execution_count": 26,
     "metadata": {},
     "output_type": "execute_result"
    }
   ],
   "source": [
    "df.head(10)"
   ]
  },
  {
   "cell_type": "code",
   "execution_count": 27,
   "id": "6ca004d4-ce96-4fa0-a429-b6eecdd3760a",
   "metadata": {},
   "outputs": [
    {
     "data": {
      "text/html": [
       "<div>\n",
       "<style scoped>\n",
       "    .dataframe tbody tr th:only-of-type {\n",
       "        vertical-align: middle;\n",
       "    }\n",
       "\n",
       "    .dataframe tbody tr th {\n",
       "        vertical-align: top;\n",
       "    }\n",
       "\n",
       "    .dataframe thead th {\n",
       "        text-align: right;\n",
       "    }\n",
       "</style>\n",
       "<table border=\"1\" class=\"dataframe\">\n",
       "  <thead>\n",
       "    <tr style=\"text-align: right;\">\n",
       "      <th></th>\n",
       "      <th>age</th>\n",
       "      <th>sex</th>\n",
       "      <th>steroid</th>\n",
       "      <th>antivirals</th>\n",
       "      <th>fatigue</th>\n",
       "      <th>malaise</th>\n",
       "      <th>anorexia</th>\n",
       "      <th>liver_big</th>\n",
       "      <th>liver_firm</th>\n",
       "      <th>spleen_palpable</th>\n",
       "      <th>spiders</th>\n",
       "      <th>ascites</th>\n",
       "      <th>varices</th>\n",
       "      <th>bilirubin</th>\n",
       "      <th>alk_phosphate</th>\n",
       "      <th>sgot</th>\n",
       "      <th>albumin</th>\n",
       "      <th>protime</th>\n",
       "      <th>histology</th>\n",
       "      <th>class</th>\n",
       "    </tr>\n",
       "  </thead>\n",
       "  <tbody>\n",
       "    <tr>\n",
       "      <th>145</th>\n",
       "      <td>31</td>\n",
       "      <td>female</td>\n",
       "      <td>False</td>\n",
       "      <td>False</td>\n",
       "      <td>True</td>\n",
       "      <td>False</td>\n",
       "      <td>False</td>\n",
       "      <td>True</td>\n",
       "      <td>False</td>\n",
       "      <td>False</td>\n",
       "      <td>False</td>\n",
       "      <td>False</td>\n",
       "      <td>False</td>\n",
       "      <td>1.2</td>\n",
       "      <td>75.0</td>\n",
       "      <td>173.0</td>\n",
       "      <td>4.2</td>\n",
       "      <td>54.0</td>\n",
       "      <td>True</td>\n",
       "      <td>live</td>\n",
       "    </tr>\n",
       "    <tr>\n",
       "      <th>146</th>\n",
       "      <td>41</td>\n",
       "      <td>female</td>\n",
       "      <td>True</td>\n",
       "      <td>False</td>\n",
       "      <td>True</td>\n",
       "      <td>False</td>\n",
       "      <td>False</td>\n",
       "      <td>True</td>\n",
       "      <td>True</td>\n",
       "      <td>True</td>\n",
       "      <td>True</td>\n",
       "      <td>False</td>\n",
       "      <td>True</td>\n",
       "      <td>4.2</td>\n",
       "      <td>65.0</td>\n",
       "      <td>120.0</td>\n",
       "      <td>3.4</td>\n",
       "      <td>NaN</td>\n",
       "      <td>True</td>\n",
       "      <td>die</td>\n",
       "    </tr>\n",
       "    <tr>\n",
       "      <th>147</th>\n",
       "      <td>70</td>\n",
       "      <td>female</td>\n",
       "      <td>False</td>\n",
       "      <td>False</td>\n",
       "      <td>True</td>\n",
       "      <td>True</td>\n",
       "      <td>True</td>\n",
       "      <td>NaN</td>\n",
       "      <td>NaN</td>\n",
       "      <td>NaN</td>\n",
       "      <td>NaN</td>\n",
       "      <td>NaN</td>\n",
       "      <td>NaN</td>\n",
       "      <td>1.7</td>\n",
       "      <td>109.0</td>\n",
       "      <td>528.0</td>\n",
       "      <td>2.8</td>\n",
       "      <td>35.0</td>\n",
       "      <td>True</td>\n",
       "      <td>die</td>\n",
       "    </tr>\n",
       "    <tr>\n",
       "      <th>148</th>\n",
       "      <td>20</td>\n",
       "      <td>female</td>\n",
       "      <td>False</td>\n",
       "      <td>False</td>\n",
       "      <td>False</td>\n",
       "      <td>False</td>\n",
       "      <td>False</td>\n",
       "      <td>True</td>\n",
       "      <td>NaN</td>\n",
       "      <td>False</td>\n",
       "      <td>False</td>\n",
       "      <td>False</td>\n",
       "      <td>False</td>\n",
       "      <td>0.9</td>\n",
       "      <td>89.0</td>\n",
       "      <td>152.0</td>\n",
       "      <td>4.0</td>\n",
       "      <td>NaN</td>\n",
       "      <td>True</td>\n",
       "      <td>live</td>\n",
       "    </tr>\n",
       "    <tr>\n",
       "      <th>149</th>\n",
       "      <td>36</td>\n",
       "      <td>female</td>\n",
       "      <td>True</td>\n",
       "      <td>False</td>\n",
       "      <td>False</td>\n",
       "      <td>False</td>\n",
       "      <td>False</td>\n",
       "      <td>True</td>\n",
       "      <td>False</td>\n",
       "      <td>False</td>\n",
       "      <td>False</td>\n",
       "      <td>False</td>\n",
       "      <td>False</td>\n",
       "      <td>0.6</td>\n",
       "      <td>120.0</td>\n",
       "      <td>30.0</td>\n",
       "      <td>4.0</td>\n",
       "      <td>NaN</td>\n",
       "      <td>True</td>\n",
       "      <td>live</td>\n",
       "    </tr>\n",
       "    <tr>\n",
       "      <th>150</th>\n",
       "      <td>46</td>\n",
       "      <td>female</td>\n",
       "      <td>True</td>\n",
       "      <td>False</td>\n",
       "      <td>True</td>\n",
       "      <td>True</td>\n",
       "      <td>True</td>\n",
       "      <td>True</td>\n",
       "      <td>False</td>\n",
       "      <td>False</td>\n",
       "      <td>True</td>\n",
       "      <td>True</td>\n",
       "      <td>True</td>\n",
       "      <td>7.6</td>\n",
       "      <td>NaN</td>\n",
       "      <td>242.0</td>\n",
       "      <td>3.3</td>\n",
       "      <td>50.0</td>\n",
       "      <td>True</td>\n",
       "      <td>die</td>\n",
       "    </tr>\n",
       "    <tr>\n",
       "      <th>151</th>\n",
       "      <td>44</td>\n",
       "      <td>female</td>\n",
       "      <td>True</td>\n",
       "      <td>False</td>\n",
       "      <td>True</td>\n",
       "      <td>False</td>\n",
       "      <td>False</td>\n",
       "      <td>True</td>\n",
       "      <td>True</td>\n",
       "      <td>False</td>\n",
       "      <td>False</td>\n",
       "      <td>False</td>\n",
       "      <td>False</td>\n",
       "      <td>0.9</td>\n",
       "      <td>126.0</td>\n",
       "      <td>142.0</td>\n",
       "      <td>4.3</td>\n",
       "      <td>NaN</td>\n",
       "      <td>True</td>\n",
       "      <td>live</td>\n",
       "    </tr>\n",
       "    <tr>\n",
       "      <th>152</th>\n",
       "      <td>61</td>\n",
       "      <td>female</td>\n",
       "      <td>False</td>\n",
       "      <td>False</td>\n",
       "      <td>True</td>\n",
       "      <td>True</td>\n",
       "      <td>False</td>\n",
       "      <td>False</td>\n",
       "      <td>True</td>\n",
       "      <td>False</td>\n",
       "      <td>True</td>\n",
       "      <td>False</td>\n",
       "      <td>False</td>\n",
       "      <td>0.8</td>\n",
       "      <td>75.0</td>\n",
       "      <td>20.0</td>\n",
       "      <td>4.1</td>\n",
       "      <td>NaN</td>\n",
       "      <td>True</td>\n",
       "      <td>live</td>\n",
       "    </tr>\n",
       "    <tr>\n",
       "      <th>153</th>\n",
       "      <td>53</td>\n",
       "      <td>male</td>\n",
       "      <td>False</td>\n",
       "      <td>False</td>\n",
       "      <td>True</td>\n",
       "      <td>False</td>\n",
       "      <td>False</td>\n",
       "      <td>True</td>\n",
       "      <td>False</td>\n",
       "      <td>True</td>\n",
       "      <td>True</td>\n",
       "      <td>False</td>\n",
       "      <td>True</td>\n",
       "      <td>1.5</td>\n",
       "      <td>81.0</td>\n",
       "      <td>19.0</td>\n",
       "      <td>4.1</td>\n",
       "      <td>48.0</td>\n",
       "      <td>True</td>\n",
       "      <td>live</td>\n",
       "    </tr>\n",
       "    <tr>\n",
       "      <th>154</th>\n",
       "      <td>43</td>\n",
       "      <td>female</td>\n",
       "      <td>True</td>\n",
       "      <td>False</td>\n",
       "      <td>True</td>\n",
       "      <td>False</td>\n",
       "      <td>False</td>\n",
       "      <td>True</td>\n",
       "      <td>False</td>\n",
       "      <td>True</td>\n",
       "      <td>True</td>\n",
       "      <td>True</td>\n",
       "      <td>False</td>\n",
       "      <td>1.2</td>\n",
       "      <td>100.0</td>\n",
       "      <td>19.0</td>\n",
       "      <td>3.1</td>\n",
       "      <td>42.0</td>\n",
       "      <td>True</td>\n",
       "      <td>die</td>\n",
       "    </tr>\n",
       "  </tbody>\n",
       "</table>\n",
       "</div>"
      ],
      "text/plain": [
       "     age     sex steroid  antivirals fatigue malaise anorexia liver_big  \\\n",
       "145   31  female   False       False    True   False    False      True   \n",
       "146   41  female    True       False    True   False    False      True   \n",
       "147   70  female   False       False    True    True     True       NaN   \n",
       "148   20  female   False       False   False   False    False      True   \n",
       "149   36  female    True       False   False   False    False      True   \n",
       "150   46  female    True       False    True    True     True      True   \n",
       "151   44  female    True       False    True   False    False      True   \n",
       "152   61  female   False       False    True    True    False     False   \n",
       "153   53    male   False       False    True   False    False      True   \n",
       "154   43  female    True       False    True   False    False      True   \n",
       "\n",
       "    liver_firm spleen_palpable spiders ascites varices  bilirubin  \\\n",
       "145      False           False   False   False   False        1.2   \n",
       "146       True            True    True   False    True        4.2   \n",
       "147        NaN             NaN     NaN     NaN     NaN        1.7   \n",
       "148        NaN           False   False   False   False        0.9   \n",
       "149      False           False   False   False   False        0.6   \n",
       "150      False           False    True    True    True        7.6   \n",
       "151       True           False   False   False   False        0.9   \n",
       "152       True           False    True   False   False        0.8   \n",
       "153      False            True    True   False    True        1.5   \n",
       "154      False            True    True    True   False        1.2   \n",
       "\n",
       "     alk_phosphate   sgot  albumin  protime  histology class  \n",
       "145           75.0  173.0      4.2     54.0       True  live  \n",
       "146           65.0  120.0      3.4      NaN       True   die  \n",
       "147          109.0  528.0      2.8     35.0       True   die  \n",
       "148           89.0  152.0      4.0      NaN       True  live  \n",
       "149          120.0   30.0      4.0      NaN       True  live  \n",
       "150            NaN  242.0      3.3     50.0       True   die  \n",
       "151          126.0  142.0      4.3      NaN       True  live  \n",
       "152           75.0   20.0      4.1      NaN       True  live  \n",
       "153           81.0   19.0      4.1     48.0       True  live  \n",
       "154          100.0   19.0      3.1     42.0       True   die  "
      ]
     },
     "execution_count": 27,
     "metadata": {},
     "output_type": "execute_result"
    }
   ],
   "source": [
    "df.tail(10)"
   ]
  },
  {
   "cell_type": "code",
   "execution_count": 28,
   "id": "c381d554-b40e-4793-a579-89f9011f9275",
   "metadata": {},
   "outputs": [
    {
     "data": {
      "text/plain": [
       "age                  int64\n",
       "sex                 object\n",
       "steroid             object\n",
       "antivirals            bool\n",
       "fatigue             object\n",
       "malaise             object\n",
       "anorexia            object\n",
       "liver_big           object\n",
       "liver_firm          object\n",
       "spleen_palpable     object\n",
       "spiders             object\n",
       "ascites             object\n",
       "varices             object\n",
       "bilirubin          float64\n",
       "alk_phosphate      float64\n",
       "sgot               float64\n",
       "albumin            float64\n",
       "protime            float64\n",
       "histology             bool\n",
       "class               object\n",
       "dtype: object"
      ]
     },
     "execution_count": 28,
     "metadata": {},
     "output_type": "execute_result"
    }
   ],
   "source": [
    "df.dtypes"
   ]
  },
  {
   "cell_type": "code",
   "execution_count": 29,
   "id": "3830315b-0d3f-4b89-8c0d-f962ec4588e0",
   "metadata": {},
   "outputs": [
    {
     "name": "stdout",
     "output_type": "stream",
     "text": [
      "<class 'pandas.core.frame.DataFrame'>\n",
      "Int64Index: 155 entries, 0 to 154\n",
      "Data columns (total 20 columns):\n",
      " #   Column           Non-Null Count  Dtype  \n",
      "---  ------           --------------  -----  \n",
      " 0   age              155 non-null    int64  \n",
      " 1   sex              155 non-null    object \n",
      " 2   steroid          154 non-null    object \n",
      " 3   antivirals       155 non-null    bool   \n",
      " 4   fatigue          154 non-null    object \n",
      " 5   malaise          154 non-null    object \n",
      " 6   anorexia         154 non-null    object \n",
      " 7   liver_big        145 non-null    object \n",
      " 8   liver_firm       144 non-null    object \n",
      " 9   spleen_palpable  150 non-null    object \n",
      " 10  spiders          150 non-null    object \n",
      " 11  ascites          150 non-null    object \n",
      " 12  varices          150 non-null    object \n",
      " 13  bilirubin        149 non-null    float64\n",
      " 14  alk_phosphate    126 non-null    float64\n",
      " 15  sgot             151 non-null    float64\n",
      " 16  albumin          139 non-null    float64\n",
      " 17  protime          88 non-null     float64\n",
      " 18  histology        155 non-null    bool   \n",
      " 19  class            155 non-null    object \n",
      "dtypes: bool(2), float64(5), int64(1), object(12)\n",
      "memory usage: 23.3+ KB\n"
     ]
    }
   ],
   "source": [
    "df.info()"
   ]
  },
  {
   "cell_type": "code",
   "execution_count": 30,
   "id": "553fcec9-fb50-4173-a8ab-2c4fecb164be",
   "metadata": {},
   "outputs": [
    {
     "data": {
      "text/plain": [
       "167"
      ]
     },
     "execution_count": 30,
     "metadata": {},
     "output_type": "execute_result"
    }
   ],
   "source": [
    "df.isna().sum().sum()"
   ]
  },
  {
   "cell_type": "code",
   "execution_count": null,
   "id": "47f7c542-92c4-41e1-b38a-330a4d5b7b29",
   "metadata": {},
   "outputs": [],
   "source": []
  },
  {
   "cell_type": "code",
   "execution_count": 31,
   "id": "c1365a85-5be0-4a42-b053-1fd26ac94b71",
   "metadata": {},
   "outputs": [
    {
     "data": {
      "text/html": [
       "<div>\n",
       "<style scoped>\n",
       "    .dataframe tbody tr th:only-of-type {\n",
       "        vertical-align: middle;\n",
       "    }\n",
       "\n",
       "    .dataframe tbody tr th {\n",
       "        vertical-align: top;\n",
       "    }\n",
       "\n",
       "    .dataframe thead th {\n",
       "        text-align: right;\n",
       "    }\n",
       "</style>\n",
       "<table border=\"1\" class=\"dataframe\">\n",
       "  <thead>\n",
       "    <tr style=\"text-align: right;\">\n",
       "      <th></th>\n",
       "      <th>age</th>\n",
       "      <th>bilirubin</th>\n",
       "      <th>alk_phosphate</th>\n",
       "      <th>sgot</th>\n",
       "      <th>albumin</th>\n",
       "      <th>protime</th>\n",
       "    </tr>\n",
       "  </thead>\n",
       "  <tbody>\n",
       "    <tr>\n",
       "      <th>min</th>\n",
       "      <td>7.0</td>\n",
       "      <td>0.300000</td>\n",
       "      <td>26.000000</td>\n",
       "      <td>14.00000</td>\n",
       "      <td>2.100000</td>\n",
       "      <td>0.000000</td>\n",
       "    </tr>\n",
       "    <tr>\n",
       "      <th>max</th>\n",
       "      <td>78.0</td>\n",
       "      <td>8.000000</td>\n",
       "      <td>295.000000</td>\n",
       "      <td>648.00000</td>\n",
       "      <td>6.400000</td>\n",
       "      <td>100.000000</td>\n",
       "    </tr>\n",
       "    <tr>\n",
       "      <th>mean</th>\n",
       "      <td>41.2</td>\n",
       "      <td>1.427517</td>\n",
       "      <td>105.325397</td>\n",
       "      <td>85.89404</td>\n",
       "      <td>3.817266</td>\n",
       "      <td>61.852273</td>\n",
       "    </tr>\n",
       "  </tbody>\n",
       "</table>\n",
       "</div>"
      ],
      "text/plain": [
       "       age  bilirubin  alk_phosphate       sgot   albumin     protime\n",
       "min    7.0   0.300000      26.000000   14.00000  2.100000    0.000000\n",
       "max   78.0   8.000000     295.000000  648.00000  6.400000  100.000000\n",
       "mean  41.2   1.427517     105.325397   85.89404  3.817266   61.852273"
      ]
     },
     "execution_count": 31,
     "metadata": {},
     "output_type": "execute_result"
    }
   ],
   "source": [
    "min_max_mean = df.describe().loc[['min', 'max', 'mean']]\n",
    "\n",
    "min_max_mean"
   ]
  },
  {
   "cell_type": "code",
   "execution_count": 32,
   "id": "9c28e8aa-e8e7-42bf-a833-5628d13df0e5",
   "metadata": {},
   "outputs": [
    {
     "data": {
      "text/html": [
       "<div>\n",
       "<style scoped>\n",
       "    .dataframe tbody tr th:only-of-type {\n",
       "        vertical-align: middle;\n",
       "    }\n",
       "\n",
       "    .dataframe tbody tr th {\n",
       "        vertical-align: top;\n",
       "    }\n",
       "\n",
       "    .dataframe thead th {\n",
       "        text-align: right;\n",
       "    }\n",
       "</style>\n",
       "<table border=\"1\" class=\"dataframe\">\n",
       "  <thead>\n",
       "    <tr style=\"text-align: right;\">\n",
       "      <th></th>\n",
       "      <th>age</th>\n",
       "      <th>sex</th>\n",
       "      <th>steroid</th>\n",
       "      <th>antivirals</th>\n",
       "      <th>fatigue</th>\n",
       "      <th>malaise</th>\n",
       "      <th>anorexia</th>\n",
       "      <th>liver_big</th>\n",
       "      <th>liver_firm</th>\n",
       "      <th>spleen_palpable</th>\n",
       "      <th>spiders</th>\n",
       "      <th>ascites</th>\n",
       "      <th>varices</th>\n",
       "      <th>bilirubin</th>\n",
       "      <th>alk_phosphate</th>\n",
       "      <th>sgot</th>\n",
       "      <th>albumin</th>\n",
       "      <th>protime</th>\n",
       "      <th>histology</th>\n",
       "      <th>class</th>\n",
       "    </tr>\n",
       "  </thead>\n",
       "  <tbody>\n",
       "    <tr>\n",
       "      <th>count</th>\n",
       "      <td>155.000000</td>\n",
       "      <td>155</td>\n",
       "      <td>154</td>\n",
       "      <td>155</td>\n",
       "      <td>154</td>\n",
       "      <td>154</td>\n",
       "      <td>154</td>\n",
       "      <td>145</td>\n",
       "      <td>144</td>\n",
       "      <td>150</td>\n",
       "      <td>150</td>\n",
       "      <td>150</td>\n",
       "      <td>150</td>\n",
       "      <td>149.000000</td>\n",
       "      <td>126.000000</td>\n",
       "      <td>151.00000</td>\n",
       "      <td>139.000000</td>\n",
       "      <td>88.000000</td>\n",
       "      <td>155</td>\n",
       "      <td>155</td>\n",
       "    </tr>\n",
       "    <tr>\n",
       "      <th>unique</th>\n",
       "      <td>NaN</td>\n",
       "      <td>2</td>\n",
       "      <td>2</td>\n",
       "      <td>2</td>\n",
       "      <td>2</td>\n",
       "      <td>2</td>\n",
       "      <td>2</td>\n",
       "      <td>2</td>\n",
       "      <td>2</td>\n",
       "      <td>2</td>\n",
       "      <td>2</td>\n",
       "      <td>2</td>\n",
       "      <td>2</td>\n",
       "      <td>NaN</td>\n",
       "      <td>NaN</td>\n",
       "      <td>NaN</td>\n",
       "      <td>NaN</td>\n",
       "      <td>NaN</td>\n",
       "      <td>2</td>\n",
       "      <td>2</td>\n",
       "    </tr>\n",
       "    <tr>\n",
       "      <th>top</th>\n",
       "      <td>NaN</td>\n",
       "      <td>female</td>\n",
       "      <td>True</td>\n",
       "      <td>False</td>\n",
       "      <td>True</td>\n",
       "      <td>False</td>\n",
       "      <td>False</td>\n",
       "      <td>True</td>\n",
       "      <td>False</td>\n",
       "      <td>False</td>\n",
       "      <td>False</td>\n",
       "      <td>False</td>\n",
       "      <td>False</td>\n",
       "      <td>NaN</td>\n",
       "      <td>NaN</td>\n",
       "      <td>NaN</td>\n",
       "      <td>NaN</td>\n",
       "      <td>NaN</td>\n",
       "      <td>False</td>\n",
       "      <td>live</td>\n",
       "    </tr>\n",
       "    <tr>\n",
       "      <th>freq</th>\n",
       "      <td>NaN</td>\n",
       "      <td>139</td>\n",
       "      <td>78</td>\n",
       "      <td>131</td>\n",
       "      <td>100</td>\n",
       "      <td>93</td>\n",
       "      <td>122</td>\n",
       "      <td>120</td>\n",
       "      <td>84</td>\n",
       "      <td>120</td>\n",
       "      <td>99</td>\n",
       "      <td>130</td>\n",
       "      <td>132</td>\n",
       "      <td>NaN</td>\n",
       "      <td>NaN</td>\n",
       "      <td>NaN</td>\n",
       "      <td>NaN</td>\n",
       "      <td>NaN</td>\n",
       "      <td>85</td>\n",
       "      <td>123</td>\n",
       "    </tr>\n",
       "    <tr>\n",
       "      <th>mean</th>\n",
       "      <td>41.200000</td>\n",
       "      <td>NaN</td>\n",
       "      <td>NaN</td>\n",
       "      <td>NaN</td>\n",
       "      <td>NaN</td>\n",
       "      <td>NaN</td>\n",
       "      <td>NaN</td>\n",
       "      <td>NaN</td>\n",
       "      <td>NaN</td>\n",
       "      <td>NaN</td>\n",
       "      <td>NaN</td>\n",
       "      <td>NaN</td>\n",
       "      <td>NaN</td>\n",
       "      <td>1.427517</td>\n",
       "      <td>105.325397</td>\n",
       "      <td>85.89404</td>\n",
       "      <td>3.817266</td>\n",
       "      <td>61.852273</td>\n",
       "      <td>NaN</td>\n",
       "      <td>NaN</td>\n",
       "    </tr>\n",
       "    <tr>\n",
       "      <th>std</th>\n",
       "      <td>12.565878</td>\n",
       "      <td>NaN</td>\n",
       "      <td>NaN</td>\n",
       "      <td>NaN</td>\n",
       "      <td>NaN</td>\n",
       "      <td>NaN</td>\n",
       "      <td>NaN</td>\n",
       "      <td>NaN</td>\n",
       "      <td>NaN</td>\n",
       "      <td>NaN</td>\n",
       "      <td>NaN</td>\n",
       "      <td>NaN</td>\n",
       "      <td>NaN</td>\n",
       "      <td>1.212149</td>\n",
       "      <td>51.508109</td>\n",
       "      <td>89.65089</td>\n",
       "      <td>0.651523</td>\n",
       "      <td>22.875244</td>\n",
       "      <td>NaN</td>\n",
       "      <td>NaN</td>\n",
       "    </tr>\n",
       "    <tr>\n",
       "      <th>min</th>\n",
       "      <td>7.000000</td>\n",
       "      <td>NaN</td>\n",
       "      <td>NaN</td>\n",
       "      <td>NaN</td>\n",
       "      <td>NaN</td>\n",
       "      <td>NaN</td>\n",
       "      <td>NaN</td>\n",
       "      <td>NaN</td>\n",
       "      <td>NaN</td>\n",
       "      <td>NaN</td>\n",
       "      <td>NaN</td>\n",
       "      <td>NaN</td>\n",
       "      <td>NaN</td>\n",
       "      <td>0.300000</td>\n",
       "      <td>26.000000</td>\n",
       "      <td>14.00000</td>\n",
       "      <td>2.100000</td>\n",
       "      <td>0.000000</td>\n",
       "      <td>NaN</td>\n",
       "      <td>NaN</td>\n",
       "    </tr>\n",
       "    <tr>\n",
       "      <th>25%</th>\n",
       "      <td>32.000000</td>\n",
       "      <td>NaN</td>\n",
       "      <td>NaN</td>\n",
       "      <td>NaN</td>\n",
       "      <td>NaN</td>\n",
       "      <td>NaN</td>\n",
       "      <td>NaN</td>\n",
       "      <td>NaN</td>\n",
       "      <td>NaN</td>\n",
       "      <td>NaN</td>\n",
       "      <td>NaN</td>\n",
       "      <td>NaN</td>\n",
       "      <td>NaN</td>\n",
       "      <td>0.700000</td>\n",
       "      <td>74.250000</td>\n",
       "      <td>31.50000</td>\n",
       "      <td>3.400000</td>\n",
       "      <td>46.000000</td>\n",
       "      <td>NaN</td>\n",
       "      <td>NaN</td>\n",
       "    </tr>\n",
       "    <tr>\n",
       "      <th>50%</th>\n",
       "      <td>39.000000</td>\n",
       "      <td>NaN</td>\n",
       "      <td>NaN</td>\n",
       "      <td>NaN</td>\n",
       "      <td>NaN</td>\n",
       "      <td>NaN</td>\n",
       "      <td>NaN</td>\n",
       "      <td>NaN</td>\n",
       "      <td>NaN</td>\n",
       "      <td>NaN</td>\n",
       "      <td>NaN</td>\n",
       "      <td>NaN</td>\n",
       "      <td>NaN</td>\n",
       "      <td>1.000000</td>\n",
       "      <td>85.000000</td>\n",
       "      <td>58.00000</td>\n",
       "      <td>4.000000</td>\n",
       "      <td>61.000000</td>\n",
       "      <td>NaN</td>\n",
       "      <td>NaN</td>\n",
       "    </tr>\n",
       "    <tr>\n",
       "      <th>75%</th>\n",
       "      <td>50.000000</td>\n",
       "      <td>NaN</td>\n",
       "      <td>NaN</td>\n",
       "      <td>NaN</td>\n",
       "      <td>NaN</td>\n",
       "      <td>NaN</td>\n",
       "      <td>NaN</td>\n",
       "      <td>NaN</td>\n",
       "      <td>NaN</td>\n",
       "      <td>NaN</td>\n",
       "      <td>NaN</td>\n",
       "      <td>NaN</td>\n",
       "      <td>NaN</td>\n",
       "      <td>1.500000</td>\n",
       "      <td>132.250000</td>\n",
       "      <td>100.50000</td>\n",
       "      <td>4.200000</td>\n",
       "      <td>76.250000</td>\n",
       "      <td>NaN</td>\n",
       "      <td>NaN</td>\n",
       "    </tr>\n",
       "    <tr>\n",
       "      <th>max</th>\n",
       "      <td>78.000000</td>\n",
       "      <td>NaN</td>\n",
       "      <td>NaN</td>\n",
       "      <td>NaN</td>\n",
       "      <td>NaN</td>\n",
       "      <td>NaN</td>\n",
       "      <td>NaN</td>\n",
       "      <td>NaN</td>\n",
       "      <td>NaN</td>\n",
       "      <td>NaN</td>\n",
       "      <td>NaN</td>\n",
       "      <td>NaN</td>\n",
       "      <td>NaN</td>\n",
       "      <td>8.000000</td>\n",
       "      <td>295.000000</td>\n",
       "      <td>648.00000</td>\n",
       "      <td>6.400000</td>\n",
       "      <td>100.000000</td>\n",
       "      <td>NaN</td>\n",
       "      <td>NaN</td>\n",
       "    </tr>\n",
       "  </tbody>\n",
       "</table>\n",
       "</div>"
      ],
      "text/plain": [
       "               age     sex steroid antivirals fatigue malaise anorexia  \\\n",
       "count   155.000000     155     154        155     154     154      154   \n",
       "unique         NaN       2       2          2       2       2        2   \n",
       "top            NaN  female    True      False    True   False    False   \n",
       "freq           NaN     139      78        131     100      93      122   \n",
       "mean     41.200000     NaN     NaN        NaN     NaN     NaN      NaN   \n",
       "std      12.565878     NaN     NaN        NaN     NaN     NaN      NaN   \n",
       "min       7.000000     NaN     NaN        NaN     NaN     NaN      NaN   \n",
       "25%      32.000000     NaN     NaN        NaN     NaN     NaN      NaN   \n",
       "50%      39.000000     NaN     NaN        NaN     NaN     NaN      NaN   \n",
       "75%      50.000000     NaN     NaN        NaN     NaN     NaN      NaN   \n",
       "max      78.000000     NaN     NaN        NaN     NaN     NaN      NaN   \n",
       "\n",
       "       liver_big liver_firm spleen_palpable spiders ascites varices  \\\n",
       "count        145        144             150     150     150     150   \n",
       "unique         2          2               2       2       2       2   \n",
       "top         True      False           False   False   False   False   \n",
       "freq         120         84             120      99     130     132   \n",
       "mean         NaN        NaN             NaN     NaN     NaN     NaN   \n",
       "std          NaN        NaN             NaN     NaN     NaN     NaN   \n",
       "min          NaN        NaN             NaN     NaN     NaN     NaN   \n",
       "25%          NaN        NaN             NaN     NaN     NaN     NaN   \n",
       "50%          NaN        NaN             NaN     NaN     NaN     NaN   \n",
       "75%          NaN        NaN             NaN     NaN     NaN     NaN   \n",
       "max          NaN        NaN             NaN     NaN     NaN     NaN   \n",
       "\n",
       "         bilirubin  alk_phosphate       sgot     albumin     protime  \\\n",
       "count   149.000000     126.000000  151.00000  139.000000   88.000000   \n",
       "unique         NaN            NaN        NaN         NaN         NaN   \n",
       "top            NaN            NaN        NaN         NaN         NaN   \n",
       "freq           NaN            NaN        NaN         NaN         NaN   \n",
       "mean      1.427517     105.325397   85.89404    3.817266   61.852273   \n",
       "std       1.212149      51.508109   89.65089    0.651523   22.875244   \n",
       "min       0.300000      26.000000   14.00000    2.100000    0.000000   \n",
       "25%       0.700000      74.250000   31.50000    3.400000   46.000000   \n",
       "50%       1.000000      85.000000   58.00000    4.000000   61.000000   \n",
       "75%       1.500000     132.250000  100.50000    4.200000   76.250000   \n",
       "max       8.000000     295.000000  648.00000    6.400000  100.000000   \n",
       "\n",
       "       histology class  \n",
       "count        155   155  \n",
       "unique         2     2  \n",
       "top        False  live  \n",
       "freq          85   123  \n",
       "mean         NaN   NaN  \n",
       "std          NaN   NaN  \n",
       "min          NaN   NaN  \n",
       "25%          NaN   NaN  \n",
       "50%          NaN   NaN  \n",
       "75%          NaN   NaN  \n",
       "max          NaN   NaN  "
      ]
     },
     "execution_count": 32,
     "metadata": {},
     "output_type": "execute_result"
    }
   ],
   "source": [
    "df.describe(include = 'all')"
   ]
  },
  {
   "cell_type": "code",
   "execution_count": 33,
   "id": "32f225cc-0f0a-42b4-932a-0de8e858ffa2",
   "metadata": {},
   "outputs": [
    {
     "ename": "SyntaxError",
     "evalue": "invalid syntax (2868912103.py, line 1)",
     "output_type": "error",
     "traceback": [
      "\u001b[0;36m  File \u001b[0;32m\"/tmp/ipykernel_10206/2868912103.py\"\u001b[0;36m, line \u001b[0;32m1\u001b[0m\n\u001b[0;31m    value_counts et que faire des nan ? drop ou mean ? median ? outliers ? zscore scatter\u001b[0m\n\u001b[0m                 ^\u001b[0m\n\u001b[0;31mSyntaxError\u001b[0m\u001b[0;31m:\u001b[0m invalid syntax\n"
     ]
    }
   ],
   "source": []
  },
  {
   "cell_type": "code",
   "execution_count": null,
   "id": "bea68380-0f14-4b41-a511-7832da24e6c5",
   "metadata": {},
   "outputs": [],
   "source": []
  },
  {
   "cell_type": "code",
   "execution_count": null,
   "id": "82158e09-b668-4888-af2c-686601a675fb",
   "metadata": {},
   "outputs": [],
   "source": []
  },
  {
   "cell_type": "code",
   "execution_count": null,
   "id": "3fe11e95-e55a-4cad-b699-16b9f246c32d",
   "metadata": {},
   "outputs": [],
   "source": []
  },
  {
   "cell_type": "code",
   "execution_count": null,
   "id": "68ff6ed0-c580-4fd0-9d98-2792e91e3f01",
   "metadata": {},
   "outputs": [],
   "source": [
    "#print(df[\"Country Name\"].value_counts())"
   ]
  },
  {
   "cell_type": "code",
   "execution_count": null,
   "id": "c71d5e32-ada0-4fcc-b3e5-cd53b0553a44",
   "metadata": {},
   "outputs": [],
   "source": [
    "print(df[\"Unnamed: 32\"].value_counts())"
   ]
  },
  {
   "cell_type": "code",
   "execution_count": null,
   "id": "da7a0923-325b-44b3-b604-72e193fa41ff",
   "metadata": {},
   "outputs": [],
   "source": [
    "df.drop(columns=[\"Unnamed: 32\"], axis=1, inplace=True)"
   ]
  },
  {
   "cell_type": "code",
   "execution_count": null,
   "id": "a6377d0c-822b-4f48-9354-478f6d4656df",
   "metadata": {},
   "outputs": [],
   "source": [
    "#drop_col_list = [1,4,5,6,8,9,10,11,12,13,14,15,16,17,18,19,21,22,24,25,26,27,28,29,30,31]"
   ]
  },
  {
   "cell_type": "code",
   "execution_count": null,
   "id": "34bb0721-fdde-49ea-be68-0d6d04d7f983",
   "metadata": {},
   "outputs": [],
   "source": [
    "#df.drop(df.columns[drop_col_list], axis=1, inplace=True)"
   ]
  },
  {
   "cell_type": "code",
   "execution_count": null,
   "id": "db20951b-2a4d-495b-a1b5-a751376e4232",
   "metadata": {},
   "outputs": [],
   "source": [
    "pathologies = df.columns[1:]\n",
    "pathologies"
   ]
  },
  {
   "cell_type": "code",
   "execution_count": null,
   "id": "5eca1a60-b1fc-4d1c-a95d-2326f107199b",
   "metadata": {},
   "outputs": [],
   "source": [
    "pathologies = list(pathologies)\n",
    "pathologies"
   ]
  },
  {
   "cell_type": "code",
   "execution_count": null,
   "id": "0cc07c59-6093-459b-9e1a-a3299d55936f",
   "metadata": {},
   "outputs": [],
   "source": [
    "df['__All causes__'] = df.sum(axis=1, numeric_only=True)\n",
    "df"
   ]
  },
  {
   "cell_type": "code",
   "execution_count": null,
   "id": "c01dfe55-ac0f-4ee9-b963-f4e16bcd146d",
   "metadata": {},
   "outputs": [],
   "source": [
    "#df.loc['index_of_world']= df.sum() # not integer\n",
    "#df.loc[999]= df.sum() # pandas positional indexers are out-of-bounds\n",
    "df.loc[191]= df.sum()\n",
    "df"
   ]
  },
  {
   "cell_type": "code",
   "execution_count": null,
   "id": "10b925bf-4a2b-44fe-adec-0975bc46af24",
   "metadata": {},
   "outputs": [],
   "source": [
    "df.loc[df.index[-1], 'Country Name'] = '__World__'\n",
    "df"
   ]
  },
  {
   "cell_type": "code",
   "execution_count": null,
   "id": "c9148b61-5dfc-45a3-a01f-e98f8725f9f7",
   "metadata": {},
   "outputs": [],
   "source": [
    "columns_to_calculate =df.columns[1:]\n",
    "\n",
    "for column in columns_to_calculate:\n",
    "        \n",
    "    df[f'{column} %'] = (df[column] / df['__All causes__']) * 100\n",
    "\n",
    "df.drop(columns=[\"__All causes__ %\"], axis=1, inplace=True)"
   ]
  },
  {
   "cell_type": "code",
   "execution_count": null,
   "id": "61d9fd87-3e95-4bdb-9041-c028b4e6c4b8",
   "metadata": {},
   "outputs": [],
   "source": [
    "df"
   ]
  },
  {
   "cell_type": "code",
   "execution_count": null,
   "id": "ba642e55-88bc-4c9e-bf27-016307c430a2",
   "metadata": {},
   "outputs": [],
   "source": [
    "last_row = df.iloc[-1]\n",
    "#print(last_row)\n",
    "for column in columns_to_calculate:    \n",
    "    if not column.endswith(\"%\"):        \n",
    "        #print(\"column \", column)\n",
    "        df[f'{column}_world_pc'] = (df[f\"{column}\"] / last_row[f\"{column}\"]) * 100"
   ]
  },
  {
   "cell_type": "code",
   "execution_count": null,
   "id": "bfc3f66b-a636-42ce-a2db-c1754afa73ff",
   "metadata": {},
   "outputs": [],
   "source": [
    "df"
   ]
  },
  {
   "cell_type": "code",
   "execution_count": null,
   "id": "2e3630bd-57cb-44f1-8287-0ebab9b9c095",
   "metadata": {},
   "outputs": [],
   "source": [
    "list_series = [df[seriename] for seriename in colnames]"
   ]
  },
  {
   "cell_type": "code",
   "execution_count": null,
   "id": "435ceeeb-f56e-4b42-aee1-d00e34a6cc68",
   "metadata": {},
   "outputs": [],
   "source": [
    "myzip = zip(colnames, list_series)"
   ]
  },
  {
   "cell_type": "code",
   "execution_count": null,
   "id": "45fa8954-787c-41d6-8eab-e0ec9dabf579",
   "metadata": {},
   "outputs": [],
   "source": [
    "listmyzip = list(myzip)"
   ]
  },
  {
   "cell_type": "code",
   "execution_count": null,
   "id": "2da439f8-105a-45ab-a244-5e4586889005",
   "metadata": {},
   "outputs": [],
   "source": []
  },
  {
   "cell_type": "code",
   "execution_count": null,
   "id": "f944657b-c46c-449b-aa2c-671341f3bd1a",
   "metadata": {},
   "outputs": [],
   "source": [
    "df_from_dict = pd.DataFrame.from_dict(mydict)\n",
    "df_from_dict"
   ]
  },
  {
   "cell_type": "code",
   "execution_count": null,
   "id": "1e2f6033-d3d7-4c6e-b546-b6776d5d107c",
   "metadata": {},
   "outputs": [],
   "source": [
    "columns_to_calculate =df_from_dict.columns[1:]\n",
    "print(columns_to_calculate)\n",
    "\n",
    "print(type(columns_to_calculate[2]))"
   ]
  },
  {
   "cell_type": "code",
   "execution_count": null,
   "id": "4f622ce2-71a3-443f-b51e-d0669237f414",
   "metadata": {},
   "outputs": [],
   "source": [
    "df_from_dict"
   ]
  },
  {
   "cell_type": "code",
   "execution_count": null,
   "id": "9a18f772-a4aa-4e44-b626-40c68be7aaa1",
   "metadata": {},
   "outputs": [],
   "source": [
    "print(type(df_from_dict))"
   ]
  },
  {
   "cell_type": "code",
   "execution_count": null,
   "id": "be6d7eed-6d05-40f2-90f6-d3fb8c1efa5d",
   "metadata": {},
   "outputs": [],
   "source": [
    "df_from_dict"
   ]
  },
  {
   "cell_type": "code",
   "execution_count": null,
   "id": "fd7c16ab-b1e5-4b0c-8a33-39686bf29849",
   "metadata": {},
   "outputs": [],
   "source": [
    "malaria_view = df_from_dict[[\"Country Name\",\"Malaria\",\"Malaria %\",\"Malaria_world_pc\",\"__All causes__\",\"__All causes___world_pc\"]]\n",
    "malaria_view"
   ]
  },
  {
   "cell_type": "code",
   "execution_count": null,
   "id": "d6ed6ce6-f6d1-44d9-be4d-563d054cfddb",
   "metadata": {},
   "outputs": [],
   "source": [
    "malaria_view.loc[(malaria_view['Malaria'] > 32000) & (malaria_view['Malaria_world_pc'] > 1.0)]"
   ]
  },
  {
   "cell_type": "code",
   "execution_count": null,
   "id": "4f675bca-0441-4326-a019-28159745ff32",
   "metadata": {},
   "outputs": [],
   "source": [
    "index_malaria_countries = [120,119, 46,75,41,30]\n",
    "df_from_dict.iloc[index_malaria_countries]"
   ]
  },
  {
   "cell_type": "code",
   "execution_count": null,
   "id": "3c3683b7-47bf-40e4-ae7d-4b02f04e5c17",
   "metadata": {},
   "outputs": [],
   "source": [
    "df_from_dict.loc[(df_from_dict[\"Country Name\"] == \"China\")]"
   ]
  },
  {
   "cell_type": "code",
   "execution_count": null,
   "id": "05a9485a-e631-4603-9f87-6f4e0807f3d5",
   "metadata": {},
   "outputs": [],
   "source": [
    "#pd.set_option('display.max_rows',None)\n",
    "#df_from_dict[\"Country Name\"]\n",
    "#pd.reset_option(\"display\")"
   ]
  },
  {
   "cell_type": "code",
   "execution_count": null,
   "id": "8d8e8b39-d379-48ec-b5be-b55a5af12678",
   "metadata": {},
   "outputs": [],
   "source": []
  },
  {
   "cell_type": "code",
   "execution_count": null,
   "id": "5c3d5853-ad8d-4c68-b6ac-f073e3c471a9",
   "metadata": {},
   "outputs": [],
   "source": [
    "df_from_dict.loc[(df_from_dict[\"Country Name\"] == \"United States\")]"
   ]
  },
  {
   "cell_type": "code",
   "execution_count": null,
   "id": "a4b98d04-107e-476e-b7fa-06f92f7b13e6",
   "metadata": {},
   "outputs": [],
   "source": [
    "df_from_dict.loc[(df_from_dict[\"Country Name\"] == \"Botswana\")]"
   ]
  },
  {
   "cell_type": "code",
   "execution_count": null,
   "id": "06a2306f-c0ab-478b-becc-624bf71ce8d8",
   "metadata": {},
   "outputs": [],
   "source": [
    "df.loc[(df[\"Country Name\"] == \"Botswana\")]"
   ]
  },
  {
   "cell_type": "code",
   "execution_count": null,
   "id": "784fdd2c-dd17-44a2-9031-c359d9eeaf77",
   "metadata": {},
   "outputs": [],
   "source": [
    "df_only_percent = df_from_dict.copy()\n",
    "df_only_percent.drop(columns=pathologies, axis=1, inplace=True)\n",
    "\n",
    "df_only_percent.drop(191, axis=0, inplace=True) # __World__ will give describe max = 100%\n",
    "df_only_percent       "
   ]
  },
  {
   "cell_type": "code",
   "execution_count": null,
   "id": "d82422d2-0975-4ac0-9b8a-115355759503",
   "metadata": {},
   "outputs": [],
   "source": [
    "#df.dtypes"
   ]
  },
  {
   "cell_type": "code",
   "execution_count": null,
   "id": "6865896c-ef56-494c-a7a3-2a4c93dfc963",
   "metadata": {},
   "outputs": [],
   "source": [
    "#df.info()"
   ]
  },
  {
   "cell_type": "code",
   "execution_count": null,
   "id": "3af4e281-7d25-477e-89e7-689219e8bdea",
   "metadata": {},
   "outputs": [],
   "source": [
    "min_max_mean = df_only_percent.describe().loc[['min', 'max', 'mean']]\n",
    "\n",
    "min_max_mean"
   ]
  },
  {
   "cell_type": "code",
   "execution_count": null,
   "id": "a249c415-fd16-4559-ad1c-37342ef928c9",
   "metadata": {},
   "outputs": [],
   "source": [
    "most_malaria = df_from_dict['Malaria'].nlargest(n=5)"
   ]
  },
  {
   "cell_type": "code",
   "execution_count": null,
   "id": "68698b77-c1fb-4af0-a7c9-63c7ded5ab94",
   "metadata": {},
   "outputs": [],
   "source": [
    "most_malaria.index"
   ]
  },
  {
   "cell_type": "code",
   "execution_count": null,
   "id": "0e8fd3e5-4254-4830-9418-fec06238fcb4",
   "metadata": {},
   "outputs": [],
   "source": [
    "countries_most_malaria_index = most_malaria.index[1:]"
   ]
  },
  {
   "cell_type": "code",
   "execution_count": null,
   "id": "05a9d4df-3df5-428b-b2c9-9506e54dd5fd",
   "metadata": {},
   "outputs": [],
   "source": [
    "list_countries_most_malaria_index = list(countries_most_malaria_index)"
   ]
  },
  {
   "cell_type": "code",
   "execution_count": null,
   "id": "b0e4e92b-c9ed-4861-bfce-1edfb6b8f303",
   "metadata": {},
   "outputs": [],
   "source": [
    "df_from_dict.iloc[list_countries_most_malaria_index,[0,19,20,21]]"
   ]
  },
  {
   "cell_type": "code",
   "execution_count": null,
   "id": "bd137e3a-6e70-4900-81db-cd682ac05fc9",
   "metadata": {},
   "outputs": [],
   "source": []
  },
  {
   "cell_type": "code",
   "execution_count": null,
   "id": "72767888-f62e-4713-a8db-141fbc753904",
   "metadata": {},
   "outputs": [],
   "source": []
  },
  {
   "cell_type": "code",
   "execution_count": null,
   "id": "c03a8eb6-c60b-4998-a508-7d8ba1b5ffd0",
   "metadata": {},
   "outputs": [],
   "source": []
  },
  {
   "cell_type": "code",
   "execution_count": null,
   "id": "a80cecb4-6295-44ed-baf9-34648786371c",
   "metadata": {},
   "outputs": [],
   "source": []
  },
  {
   "cell_type": "code",
   "execution_count": null,
   "id": "b1c75517-74d2-4057-82d7-0addee33e663",
   "metadata": {},
   "outputs": [],
   "source": []
  },
  {
   "cell_type": "code",
   "execution_count": null,
   "id": "5fce284e-131e-4079-9ef0-a5782d2a4f85",
   "metadata": {},
   "outputs": [],
   "source": [
    "#for disease_percent_name in national_diseases_percent_colnames:\n",
    "#    print(disease_percent_name)"
   ]
  },
  {
   "cell_type": "code",
   "execution_count": null,
   "id": "81757f69-6c12-44ef-a46b-60e43bf1d939",
   "metadata": {},
   "outputs": [],
   "source": [
    "five_big = df_from_dict['__All causes__'].nlargest(n=5)\n",
    "print(five_big)"
   ]
  },
  {
   "cell_type": "code",
   "execution_count": null,
   "id": "d44fd526-d268-4591-b039-6a1fc285ff16",
   "metadata": {},
   "outputs": [],
   "source": [
    "countries_and_national_diseases = [\"Country Name\"] + national_diseases_percent_colnames"
   ]
  },
  {
   "cell_type": "code",
   "execution_count": null,
   "id": "c02cec53-352f-4fe0-a72b-3d7a5f983f9e",
   "metadata": {},
   "outputs": [],
   "source": [
    "five_big_countries_patho = df_from_dict.loc[five_big.index, countries_and_national_diseases]\n"
   ]
  },
  {
   "cell_type": "code",
   "execution_count": null,
   "id": "3ebe58af-3640-4b4b-b5b3-542f235167d9",
   "metadata": {},
   "outputs": [],
   "source": [
    "five_little = df_from_dict['__All causes__'].nsmallest(n=5)\n",
    "\n",
    "five_little"
   ]
  },
  {
   "cell_type": "code",
   "execution_count": null,
   "id": "7126dc10-a806-4643-9153-6f82477964af",
   "metadata": {},
   "outputs": [],
   "source": [
    "five_little_countries_patho = df_from_dict.loc[five_little.index, countries_and_national_diseases]"
   ]
  },
  {
   "cell_type": "code",
   "execution_count": null,
   "id": "35e1f083-2f90-438a-886e-bbcde968be2c",
   "metadata": {},
   "outputs": [],
   "source": [
    "five_big_five_little_true = pd.concat([five_big_countries_patho, five_little_countries_patho], ignore_index=True)\n",
    "\n",
    "five_big_five_little_true"
   ]
  },
  {
   "cell_type": "code",
   "execution_count": null,
   "id": "aab66e7c-720d-451c-9d80-027f27119bcf",
   "metadata": {},
   "outputs": [],
   "source": [
    "five_big_five_little_false = pd.concat([five_big_countries_patho, five_little_countries_patho], ignore_index=False)\n",
    "five_big_five_little_false"
   ]
  },
  {
   "cell_type": "code",
   "execution_count": null,
   "id": "08276046-3ddd-4046-aad5-22c3e96b5c6f",
   "metadata": {},
   "outputs": [],
   "source": [
    "five_big_five_little_false"
   ]
  },
  {
   "cell_type": "code",
   "execution_count": null,
   "id": "7c57a87f-92e7-496a-845b-c121a8e453e3",
   "metadata": {},
   "outputs": [],
   "source": [
    "europkillers_with_countryname = [\"Country Name\"] + europkillers\n",
    "print(europkillers_with_countryname)"
   ]
  },
  {
   "cell_type": "code",
   "execution_count": null,
   "id": "784594ec-9b0c-4ccb-9258-235c857401ab",
   "metadata": {},
   "outputs": [],
   "source": [
    "myselection = df_from_dict[df_from_dict[\"Country Name\"].isin(thoses_countries)]"
   ]
  },
  {
   "cell_type": "code",
   "execution_count": null,
   "id": "93608bc6-ea30-4593-b108-ed2df1bfcb1d",
   "metadata": {},
   "outputs": [],
   "source": [
    "myselection[europkillers_with_countryname]"
   ]
  },
  {
   "cell_type": "code",
   "execution_count": null,
   "id": "3e4379bf-de14-4964-a6d8-24825fadf42a",
   "metadata": {},
   "outputs": [],
   "source": [
    "print(myselection[europkillers_with_countryname].to_dict())"
   ]
  },
  {
   "cell_type": "code",
   "execution_count": null,
   "id": "6cd933cf-c90f-4dc4-bef5-710015884f4f",
   "metadata": {},
   "outputs": [],
   "source": [
    "myselection.set_index('Country Name', inplace=True)"
   ]
  },
  {
   "cell_type": "code",
   "execution_count": null,
   "id": "0779a801-d2e2-4b2d-87a3-1ba517dd678c",
   "metadata": {},
   "outputs": [],
   "source": [
    "myselection[europkillers]"
   ]
  },
  {
   "cell_type": "code",
   "execution_count": null,
   "id": "520007df-f203-4d3a-a256-9ff1772d2238",
   "metadata": {},
   "outputs": [],
   "source": [
    "df_for_pie = myselection[europkillers_pc].copy()\n",
    "df_for_pie"
   ]
  },
  {
   "cell_type": "code",
   "execution_count": null,
   "id": "c196ec6c-bb94-49b1-9542-5f98b3ab1e09",
   "metadata": {},
   "outputs": [],
   "source": [
    "df_for_pie['significative'] = df_for_pie.sum(axis=1, numeric_only=True)\n",
    "df_for_pie"
   ]
  },
  {
   "cell_type": "code",
   "execution_count": null,
   "id": "f23adcab-e548-4232-bf48-70b3d066fdb3",
   "metadata": {},
   "outputs": [],
   "source": [
    "df_for_pie[\"other\"] = 100 - df_for_pie[\"significative\"]"
   ]
  },
  {
   "cell_type": "code",
   "execution_count": null,
   "id": "14698c02-4785-4c36-9548-730a9158390c",
   "metadata": {},
   "outputs": [],
   "source": [
    "df_for_pie.drop(columns=[\"significative\"], axis=1, inplace=True)\n",
    "df_for_pie"
   ]
  },
  {
   "cell_type": "code",
   "execution_count": null,
   "id": "fb1f10e8-b5df-481b-94c1-896fce366ae4",
   "metadata": {},
   "outputs": [],
   "source": [
    "df_for_pie_to_dict = df_for_pie.T.to_dict()"
   ]
  },
  {
   "cell_type": "code",
   "execution_count": null,
   "id": "6a4d1b02-5b36-43fa-a6d5-26af1fa171c2",
   "metadata": {},
   "outputs": [],
   "source": [
    "#df_for_pie_to_dict"
   ]
  },
  {
   "cell_type": "code",
   "execution_count": null,
   "id": "5d28c447-4e25-4f72-a170-2f5951cf9686",
   "metadata": {},
   "outputs": [],
   "source": [
    "#national_diseases_percent_colnames"
   ]
  },
  {
   "cell_type": "code",
   "execution_count": null,
   "id": "095eb883-ca34-401e-b822-df43b6bf6f89",
   "metadata": {},
   "outputs": [],
   "source": [
    "nigeriarow = df_from_dict.loc[(df_from_dict[\"Country Name\"] == \"Nigeria\")]\n",
    "nigeriarow[national_diseases_percent_colnames]"
   ]
  },
  {
   "cell_type": "code",
   "execution_count": null,
   "id": "d441c3c4-6470-43e3-82e5-b7022434171e",
   "metadata": {},
   "outputs": [],
   "source": [
    "nigeria_pc_valflatlist  = nigeriarow[national_diseases_percent_colnames].values.flatten().tolist()"
   ]
  },
  {
   "cell_type": "code",
   "execution_count": null,
   "id": "b160050b-e4ab-4407-8ca0-65dadd7028d5",
   "metadata": {},
   "outputs": [],
   "source": [
    "afghanistanrow = df_from_dict.loc[(df_from_dict[\"Country Name\"] == \"Afghanistan\")]\n",
    "afghanistanrow[national_diseases_percent_colnames]"
   ]
  },
  {
   "cell_type": "code",
   "execution_count": null,
   "id": "2747ef49-fb3b-42f7-b433-6aec6289aecb",
   "metadata": {},
   "outputs": [],
   "source": [
    "afghanistan_pc_valflatlist  = afghanistanrow[national_diseases_percent_colnames].values.flatten().tolist()"
   ]
  },
  {
   "cell_type": "code",
   "execution_count": null,
   "id": "8495c8c9-777c-493d-9cf5-88cca78f533b",
   "metadata": {},
   "outputs": [],
   "source": [
    "print(f\" len(national_diseases_percent_colnames)  {len(national_diseases_percent_colnames)}  \")"
   ]
  },
  {
   "cell_type": "code",
   "execution_count": null,
   "id": "98070a12-5939-4c95-ac85-654561640cdd",
   "metadata": {},
   "outputs": [],
   "source": [
    "max_row_index = df_from_dict[\"HIV/AIDS %\"].idxmax()\n",
    "\n",
    "row_with_max_foo = df_from_dict.loc[max_row_index]\n",
    "\n",
    "print(row_with_max_foo)"
   ]
  },
  {
   "cell_type": "code",
   "execution_count": null,
   "id": "228e2107-2257-4212-ae79-ba814386ce59",
   "metadata": {},
   "outputs": [],
   "source": [
    "max_foo_value = df_from_dict.at[max_row_index, \"HIV/AIDS %\"]\n",
    "\n",
    "print(max_foo_value)"
   ]
  },
  {
   "cell_type": "code",
   "execution_count": null,
   "id": "72283d47-f356-4cdb-ace0-4a7278960d44",
   "metadata": {},
   "outputs": [],
   "source": [
    "russia_vs_ukraine = df_from_dict.loc[(df_from_dict['Country Name'] == \"Russia\") | (df_from_dict['Country Name'] == \"Ukraine\")]"
   ]
  },
  {
   "cell_type": "code",
   "execution_count": null,
   "id": "70d897cb-09db-4fad-817f-3d8ba27e4d87",
   "metadata": {},
   "outputs": [],
   "source": [
    "russia_vs_ukraine[national_diseases_percent_colnames]"
   ]
  },
  {
   "cell_type": "code",
   "execution_count": null,
   "id": "81b58d01-519b-4d97-b686-0d143b5600b5",
   "metadata": {},
   "outputs": [],
   "source": [
    "df_from_dict[0:191]"
   ]
  },
  {
   "cell_type": "code",
   "execution_count": null,
   "id": "adf9e14c-5f9a-4516-a71d-2d2d2a555c8b",
   "metadata": {},
   "outputs": [],
   "source": [
    "horror_ten_serie = df_from_dict[0:191]['Conflict and terrorism_world_pc'].nlargest(n=10)\n",
    "horror_ten_serie"
   ]
  },
  {
   "cell_type": "code",
   "execution_count": null,
   "id": "2ff8c0cf-4783-40d5-a52b-67a8efce42de",
   "metadata": {},
   "outputs": [],
   "source": [
    "selected_horror_ten = df_from_dict.loc[horror_ten_serie.index, [\"Country Name\", \"Conflict and terrorism\",\"Conflict and terrorism %\",\"Conflict and terrorism_world_pc\"]]\n",
    "\n",
    "selected_horror_ten"
   ]
  },
  {
   "cell_type": "code",
   "execution_count": null,
   "id": "8ba8276e-daa0-4f2c-91c3-b055317aac89",
   "metadata": {},
   "outputs": [],
   "source": [
    "df_from_dict[\"Alz / Park\"] = round(df_from_dict[\"Alz / Park\"],2) "
   ]
  },
  {
   "cell_type": "code",
   "execution_count": null,
   "id": "5103af03-0ca9-4f07-9309-1557930e4cb2",
   "metadata": {},
   "outputs": [],
   "source": [
    "df_from_dict[[\"Country Name\", \"Alzheimer's disease\",\"Parkinson's disease\",\"Alz / Park\"]].head(15)"
   ]
  },
  {
   "cell_type": "code",
   "execution_count": null,
   "id": "dbce448a-d446-48ab-83fe-8a24d2616e31",
   "metadata": {},
   "outputs": [],
   "source": [
    "df_from_dict[[\"Country Name\", \"Alzheimer's disease\",\"Parkinson's disease\",\"Alz / Park\"]].tail(15)"
   ]
  },
  {
   "cell_type": "code",
   "execution_count": null,
   "id": "2238afcf-8e6a-4fbd-8a43-390d97774fb7",
   "metadata": {},
   "outputs": [],
   "source": [
    "min_max_mean_AlzPark = df_from_dict[[\"Country Name\", \"Alzheimer's disease %\",\"Parkinson's disease %\",\"Alz / Park\"]].describe().loc[['min', 'max', 'mean']]\n",
    "\n",
    "min_max_mean_AlzPark"
   ]
  },
  {
   "cell_type": "code",
   "execution_count": null,
   "id": "7b9b0189-6e19-4367-ab7a-bbe0364a1e47",
   "metadata": {},
   "outputs": [],
   "source": [
    "min_max_mean_AlzPark = df_from_dict[[\"Country Name\", \"Alzheimer's disease %\",\"Parkinson's disease %\",\"Alz / Park\"]].describe()\n",
    "\n",
    "min_max_mean_AlzPark"
   ]
  },
  {
   "cell_type": "code",
   "execution_count": null,
   "id": "f5911db0-b579-4c2c-b864-acd267b59a41",
   "metadata": {},
   "outputs": [],
   "source": [
    "df_from_dict[[\"Alcohol use disorders\",\"Drug use disorders\"]].head(15)\n",
    "df_from_dict[[\"Country Name\", \"Alcohol use disorders\",\"Drug use disorders\"]].tail(15)\n",
    "df_from_dict[\"OH / Drug\"] = df_from_dict[\"Alcohol use disorders\"] / df_from_dict[\"Drug use disorders\"]"
   ]
  },
  {
   "cell_type": "code",
   "execution_count": null,
   "id": "d6f9773a-ea79-4449-914b-eca56c51942b",
   "metadata": {},
   "outputs": [],
   "source": [
    "df_from_dict[\"OH / Drug\"] = round(df_from_dict[\"OH / Drug\"],3) "
   ]
  },
  {
   "cell_type": "code",
   "execution_count": null,
   "id": "970aeaa9-cd53-4da5-9f69-9fa75e180c85",
   "metadata": {},
   "outputs": [],
   "source": [
    "df_from_dict[[\"Country Name\", \"Alcohol use disorders %\",\"Drug use disorders %\",\"OH / Drug\"]].head(15)"
   ]
  },
  {
   "cell_type": "code",
   "execution_count": null,
   "id": "7046ef91-48b7-4264-b326-150b37ca226b",
   "metadata": {},
   "outputs": [],
   "source": [
    "df_from_dict[[\"Country Name\", \"Alcohol use disorders %\",\"Drug use disorders %\",\"OH / Drug\"]].tail(15)"
   ]
  },
  {
   "cell_type": "code",
   "execution_count": null,
   "id": "2e31947e-3c74-4a64-87a6-79820a162ff7",
   "metadata": {},
   "outputs": [],
   "source": [
    "min_max_mean_AlcDrug = df_from_dict[[\"Country Name\", \"Alcohol use disorders %\",\"Drug use disorders %\",\"OH / Drug\"]].describe().loc[['min', 'max', 'mean']]\n",
    "min_max_mean_AlcDrug"
   ]
  },
  {
   "cell_type": "code",
   "execution_count": null,
   "id": "0805cae3-d02c-431a-b5da-4674afd58816",
   "metadata": {},
   "outputs": [],
   "source": [
    "hitox_lowdrink = df_from_dict.loc[(df_from_dict[\"OH / Drug\"] < 0.09)]\n",
    "hitox_lowdrink[[\"Country Name\", \"Alcohol use disorders %\",\"Drug use disorders %\",\"OH / Drug\"]]"
   ]
  },
  {
   "cell_type": "code",
   "execution_count": null,
   "id": "5d8c81a3-d24a-47df-bd83-0e538c0c65e1",
   "metadata": {},
   "outputs": [],
   "source": [
    "df_from_dict[\"OH + Drug %\"] = df_from_dict[\"Alcohol use disorders %\"] + df_from_dict[\"Drug use disorders %\"]\n",
    "\n",
    "df_from_dict[\"OH / Drug %\"] = round(df_from_dict[\"OH / Drug\"],2) "
   ]
  },
  {
   "cell_type": "code",
   "execution_count": null,
   "id": "32d07eae-6f71-4eb9-a1f1-176ed5391e31",
   "metadata": {},
   "outputs": [],
   "source": [
    "df_from_dict[[\"Country Name\", \"Alcohol use disorders %\",\"Drug use disorders %\",\"OH / Drug\", \"OH + Drug %\"]].head(15)"
   ]
  },
  {
   "cell_type": "code",
   "execution_count": null,
   "id": "be87fb67-8542-4c82-ae64-b88918cb8868",
   "metadata": {},
   "outputs": [],
   "source": [
    "df_from_dict[[\"Country Name\", \"Alcohol use disorders %\",\"Drug use disorders %\",\"OH / Drug\", \"OH + Drug %\"]].tail(15)"
   ]
  },
  {
   "cell_type": "code",
   "execution_count": null,
   "id": "3e74ce07-44b5-4180-aecc-3be6f62f3acb",
   "metadata": {},
   "outputs": [],
   "source": [
    "hidrug_lowdrink = df_from_dict.loc[(df_from_dict[\"OH / Drug\"] < 0.09)]\n",
    "hidrug_lowdrink[[\"Country Name\", \"Alcohol use disorders %\",\"Drug use disorders %\",\"OH / Drug\"]]"
   ]
  },
  {
   "cell_type": "code",
   "execution_count": null,
   "id": "b2a6784a-6ae7-4180-a701-4d0d9526b258",
   "metadata": {},
   "outputs": [],
   "source": [
    "min_max_mean_psychoabuse = df_from_dict[[\"Country Name\", \"OH + Drug %\"]].describe().loc[['min', 'max', 'mean']]\n",
    "min_max_mean_psychoabuse"
   ]
  },
  {
   "cell_type": "code",
   "execution_count": null,
   "id": "01ed1f75-63b6-46ff-93fe-5392d5bc7dfe",
   "metadata": {},
   "outputs": [],
   "source": [
    "high_psycho_abuse = df_from_dict.loc[(df_from_dict[\"OH + Drug %\"] > 3.167)]\n",
    "high_psycho_abuse[[\"Country Name\", \"Alcohol use disorders %\",\"Drug use disorders %\",\"OH / Drug\", \"OH + Drug %\"]]"
   ]
  },
  {
   "cell_type": "code",
   "execution_count": null,
   "id": "c8f521e2-14a4-4f05-aaeb-f710aa1678e6",
   "metadata": {},
   "outputs": [],
   "source": [
    "df_from_dict[\"OH + Drug %\"].describe()"
   ]
  },
  {
   "cell_type": "code",
   "execution_count": null,
   "id": "c2fca3d9-c306-49c5-96ce-7040348456d1",
   "metadata": {},
   "outputs": [],
   "source": [
    "q1 = df_from_dict[\"OH + Drug %\"].describe()[4]\n",
    "q4 = df_from_dict[\"OH + Drug %\"].describe()[6]\n",
    "\n",
    "df_from_dict['OH_and_Drug_level'] = df_from_dict.apply(lambda row: 'low' if row[\"OH + Drug %\"] <= q1 else ('high' if row[\"OH + Drug %\"] > q4 else 'medium'), axis = 1)"
   ]
  },
  {
   "cell_type": "code",
   "execution_count": null,
   "id": "ae54b0bb-261d-4f92-afa6-0bf82dac1292",
   "metadata": {},
   "outputs": [],
   "source": [
    "df_from_dict[[\"Country Name\",'OH_and_Drug_level']].head(20)"
   ]
  },
  {
   "cell_type": "code",
   "execution_count": null,
   "id": "09b2ebb5-ceae-46bc-9177-f012f0866653",
   "metadata": {},
   "outputs": [],
   "source": [
    "tableau_toxlevels_aggressiv = df_from_dict.groupby(['OH_and_Drug_level'])[['Interpersonal violence %', 'Self-harm %']].mean()\n",
    "\n",
    "tableau_toxlevels_aggressiv"
   ]
  },
  {
   "cell_type": "code",
   "execution_count": null,
   "id": "63a4bc3d-84dd-4ff5-9945-c207c886e8b7",
   "metadata": {},
   "outputs": [],
   "source": [
    "tab_t = tableau_toxlevels_aggressiv.T[[\"low\", \"medium\", \"high\"]]\n",
    "tab_t"
   ]
  },
  {
   "cell_type": "code",
   "execution_count": null,
   "id": "9bde0fbb-39b3-490a-98ad-64882a3cc190",
   "metadata": {},
   "outputs": [],
   "source": [
    "tableau_toxlevels_aggressiv_sorted = tab_t.T\n",
    "tableau_toxlevels_aggressiv_sorted"
   ]
  },
  {
   "cell_type": "code",
   "execution_count": null,
   "id": "0b92c216-2642-494a-86ef-0bb6e0ea95fe",
   "metadata": {},
   "outputs": [],
   "source": [
    "tableau_toxlevels_neuro = df_from_dict.groupby(['OH_and_Drug_level'])[[\"Alzheimer's disease %\",\"Parkinson's disease %\",\"Alz / Park\"]].mean()\n",
    "\n",
    "tab_t = tableau_toxlevels_neuro.T[[\"low\", \"medium\", \"high\"]]\n",
    "\n",
    "tableau_toxlevels_neuro_sorted = tab_t.T\n",
    "tableau_toxlevels_neuro_sorted"
   ]
  },
  {
   "cell_type": "code",
   "execution_count": null,
   "id": "f87ae292-c517-4668-bc85-0329d529108a",
   "metadata": {},
   "outputs": [],
   "source": [
    "#for i,feature in enumerate(df_from_dict.columns):\n",
    "#    print(i,\" \", feature)"
   ]
  },
  {
   "cell_type": "code",
   "execution_count": null,
   "id": "ac6a455b-60b1-4d24-a51f-08c256ea0680",
   "metadata": {},
   "outputs": [],
   "source": [
    "max_row_index = df_from_dict[\"Road injuries %\"].idxmax()\n",
    "\n",
    "row_with_max_foo = df_from_dict.loc[max_row_index]"
   ]
  },
  {
   "cell_type": "code",
   "execution_count": null,
   "id": "87e11813-2493-42b2-a1f4-b5a6ae8fae63",
   "metadata": {},
   "outputs": [],
   "source": [
    "print(row_with_max_foo[[\"Country Name\",\"Road injuries\",\"Road injuries %\",\"Road injuries_world_pc\",\"__All causes__\",\"OH_and_Drug_level\"]])"
   ]
  },
  {
   "cell_type": "code",
   "execution_count": null,
   "id": "d50a639d-078e-4d87-8d35-bc70ffe7c794",
   "metadata": {},
   "outputs": [],
   "source": [
    "framed = row_with_max_foo[[\"Country Name\",\"Road injuries\",\"Road injuries %\",\"Road injuries_world_pc\",\"__All causes__\",\"OH_and_Drug_level\"]].to_frame()\n",
    "print(framed)\n"
   ]
  },
  {
   "cell_type": "code",
   "execution_count": null,
   "id": "4ab4a100-22a1-4f58-a705-4a354ca1c866",
   "metadata": {},
   "outputs": [],
   "source": [
    "print(framed.T)\n"
   ]
  },
  {
   "cell_type": "code",
   "execution_count": null,
   "id": "f9ffbcb9-5eba-4029-996b-d3afc73e773a",
   "metadata": {},
   "outputs": [],
   "source": [
    "print(row_with_max_foo[[\"Country Name\",\"Road injuries\",\"Road injuries %\",\"Road injuries_world_pc\",\"__All causes__\",\"OH_and_Drug_level\"]].transpose())"
   ]
  },
  {
   "cell_type": "code",
   "execution_count": null,
   "id": "0540a86f-f8a2-4bb3-af69-7b63a7dd0abb",
   "metadata": {},
   "outputs": [],
   "source": [
    "max_row_index = df_from_dict[\"Road injuries\"].idxmax()\n",
    "\n",
    "row_with_max_foo = df_from_dict.loc[max_row_index]\n",
    "\n",
    "print(row_with_max_foo)"
   ]
  },
  {
   "cell_type": "code",
   "execution_count": null,
   "id": "afa3a291-7ec1-4393-be96-5e0ad8fe61e0",
   "metadata": {},
   "outputs": [],
   "source": [
    "#checks zeros in road , annotate outliers"
   ]
  },
  {
   "cell_type": "code",
   "execution_count": null,
   "id": "5d59e2b6-2541-4291-907b-5216a4159a3e",
   "metadata": {},
   "outputs": [],
   "source": []
  },
  {
   "cell_type": "code",
   "execution_count": null,
   "id": "ce72e636-44f5-474c-9b04-c347edb3440a",
   "metadata": {},
   "outputs": [],
   "source": []
  },
  {
   "cell_type": "code",
   "execution_count": null,
   "id": "2e2b5277-c866-4a16-91f0-9ded48356660",
   "metadata": {},
   "outputs": [],
   "source": []
  },
  {
   "cell_type": "code",
   "execution_count": null,
   "id": "ff046718-fd2c-4cde-89f2-953a7a63c452",
   "metadata": {},
   "outputs": [],
   "source": []
  }
 ],
 "metadata": {
  "kernelspec": {
   "display_name": "Python [conda env:clone_adsml] *",
   "language": "python",
   "name": "conda-env-clone_adsml-py"
  },
  "language_info": {
   "codemirror_mode": {
    "name": "ipython",
    "version": 3
   },
   "file_extension": ".py",
   "mimetype": "text/x-python",
   "name": "python",
   "nbconvert_exporter": "python",
   "pygments_lexer": "ipython3",
   "version": "3.9.7"
  }
 },
 "nbformat": 4,
 "nbformat_minor": 5
}
