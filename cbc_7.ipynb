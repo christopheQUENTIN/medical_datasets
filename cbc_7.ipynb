{
 "cells": [
  {
   "cell_type": "code",
   "execution_count": 1,
   "id": "2cab2e1d-bc19-490d-b906-8700acd6cdb6",
   "metadata": {},
   "outputs": [
    {
     "data": {
      "text/plain": [
       "'\\nCBC data_for_meandeley_csv   :  https://www.kaggle.com/datasets/saurabhshahane/anemia-diagnosis-dataset\\n\\n\\nContext\\n\\nThis data set presents the prevalence of different types of Anemia including it’s severity and association with age and gender of the study population with CBC data set parameters as variables. We generated dataset from complete blood count test performed by Hematology analyzer to determine the prevalence of different types of Anemia treated at the Eureka diagnostic center in Lucknow, India. All the procedures for the CBC test were done following standard operating protocols defined for the Hematology analyzer. For CBC investigation, 400 patient samples were randomly selected to compute the dataset from the patients who visited the Eureka diagnostic center in Lucknow for various clinical examinations. The diagnostic center performs 4 – 8CBC investigations a day on average. During the data collection period between September 2020 to December 2020, 1000 CBC investigations were performed, out of which 400 random samples were selected. We included adult males and females who are not pregnant and older than 15 years of age in the study population. Infants, young children less than 10 years old and pregnant women were excluded from the study due to various factors like variable CBC test values and other factors. After excluding the above stated persons from the randomly chosen sample of 400 patients, we were left with 364 patients in the final data set.\\nAcknowledgements\\n\\nVohra, Rajan; pahareeya, jankisharan; Hussain, Abir (2021), “Complete Blood Count Anemia Diagnosis”, Mendeley Data, V1, doi: 10.17632/dy9mfjchm7.1\\n\\n\\n8.24\\n'"
      ]
     },
     "execution_count": 1,
     "metadata": {},
     "output_type": "execute_result"
    }
   ],
   "source": [
    "\"\"\"\n",
    "CBC data_for_meandeley_csv   :  https://www.kaggle.com/datasets/saurabhshahane/anemia-diagnosis-dataset\n",
    "\n",
    "\n",
    "Context\n",
    "\n",
    "This data set presents the prevalence of different types of Anemia including it’s severity and association with age and gender of the study population with CBC data set parameters as variables. We generated dataset from complete blood count test performed by Hematology analyzer to determine the prevalence of different types of Anemia treated at the Eureka diagnostic center in Lucknow, India. All the procedures for the CBC test were done following standard operating protocols defined for the Hematology analyzer. For CBC investigation, 400 patient samples were randomly selected to compute the dataset from the patients who visited the Eureka diagnostic center in Lucknow for various clinical examinations. The diagnostic center performs 4 – 8CBC investigations a day on average. During the data collection period between September 2020 to December 2020, 1000 CBC investigations were performed, out of which 400 random samples were selected. We included adult males and females who are not pregnant and older than 15 years of age in the study population. Infants, young children less than 10 years old and pregnant women were excluded from the study due to various factors like variable CBC test values and other factors. After excluding the above stated persons from the randomly chosen sample of 400 patients, we were left with 364 patients in the final data set.\n",
    "Acknowledgements\n",
    "\n",
    "Vohra, Rajan; pahareeya, jankisharan; Hussain, Abir (2021), “Complete Blood Count Anemia Diagnosis”, Mendeley Data, V1, doi: 10.17632/dy9mfjchm7.1\n",
    "\n",
    "\n",
    "8.24\n",
    "\"\"\""
   ]
  },
  {
   "cell_type": "code",
   "execution_count": 2,
   "id": "fd596f8a-7396-4c70-9bde-e24aa2930a8a",
   "metadata": {},
   "outputs": [],
   "source": [
    "import numpy as np\n",
    "import pandas as pd\n",
    "import seaborn as sns\n",
    "\n",
    "from sklearn.datasets import fetch_openml\n",
    "\n",
    "import matplotlib.pyplot as plt\n",
    "\n",
    "%matplotlib inline"
   ]
  },
  {
   "cell_type": "code",
   "execution_count": 3,
   "id": "71d20f21-2247-4ba9-ac00-cd2e033f666a",
   "metadata": {},
   "outputs": [],
   "source": [
    "file_csv = \"CBC data_for_meandeley_csv.csv\"\n",
    "\n",
    "df = pd.read_csv(file_csv)"
   ]
  },
  {
   "cell_type": "code",
   "execution_count": 4,
   "id": "3f2d0883-d8ce-41e6-93be-632e2abe26ba",
   "metadata": {},
   "outputs": [
    {
     "data": {
      "text/plain": [
       "(374, 12)"
      ]
     },
     "execution_count": 4,
     "metadata": {},
     "output_type": "execute_result"
    }
   ],
   "source": [
    "df.shape"
   ]
  },
  {
   "cell_type": "code",
   "execution_count": 5,
   "id": "b1382208-34a8-46f8-b620-2076f2fdb327",
   "metadata": {},
   "outputs": [
    {
     "data": {
      "text/plain": [
       "Index(['S. No.', 'Age      ', 'Sex  ', '  RBC    ', 'PCV', 'MCV  ', 'MCH',\n",
       "       ' MCHC  ', ' RDW    ', 'TLC', ' PLT /mm3', ' HGB '],\n",
       "      dtype='object')"
      ]
     },
     "execution_count": 5,
     "metadata": {},
     "output_type": "execute_result"
    }
   ],
   "source": [
    "df.columns"
   ]
  },
  {
   "cell_type": "code",
   "execution_count": 6,
   "id": "2fe66bb6-83cb-46de-b5de-ce849b8d7dce",
   "metadata": {},
   "outputs": [],
   "source": [
    "for colname in list(df.columns):\n",
    "    colnamestriped = colname.strip()\n",
    "    df=df.rename(columns = {colname:colnamestriped})"
   ]
  },
  {
   "cell_type": "code",
   "execution_count": 7,
   "id": "e9a9df9e-9d6f-4afe-a220-c56ec72e4242",
   "metadata": {},
   "outputs": [
    {
     "data": {
      "text/plain": [
       "Index(['S. No.', 'Age', 'Sex', 'RBC', 'PCV', 'MCV', 'MCH', 'MCHC', 'RDW',\n",
       "       'TLC', 'PLT /mm3', 'HGB'],\n",
       "      dtype='object')"
      ]
     },
     "execution_count": 7,
     "metadata": {},
     "output_type": "execute_result"
    }
   ],
   "source": [
    "df.columns"
   ]
  },
  {
   "cell_type": "code",
   "execution_count": 8,
   "id": "7028c695-7c9f-44e9-a9bd-8b2f473be6b5",
   "metadata": {},
   "outputs": [],
   "source": [
    "pd.set_option('display.max_columns',None)"
   ]
  },
  {
   "cell_type": "code",
   "execution_count": 9,
   "id": "e4c887bf-2b65-4fef-990c-9df39ddec13a",
   "metadata": {},
   "outputs": [
    {
     "data": {
      "text/html": [
       "<div>\n",
       "<style scoped>\n",
       "    .dataframe tbody tr th:only-of-type {\n",
       "        vertical-align: middle;\n",
       "    }\n",
       "\n",
       "    .dataframe tbody tr th {\n",
       "        vertical-align: top;\n",
       "    }\n",
       "\n",
       "    .dataframe thead th {\n",
       "        text-align: right;\n",
       "    }\n",
       "</style>\n",
       "<table border=\"1\" class=\"dataframe\">\n",
       "  <thead>\n",
       "    <tr style=\"text-align: right;\">\n",
       "      <th></th>\n",
       "      <th>S. No.</th>\n",
       "      <th>Age</th>\n",
       "      <th>Sex</th>\n",
       "      <th>RBC</th>\n",
       "      <th>PCV</th>\n",
       "      <th>MCV</th>\n",
       "      <th>MCH</th>\n",
       "      <th>MCHC</th>\n",
       "      <th>RDW</th>\n",
       "      <th>TLC</th>\n",
       "      <th>PLT /mm3</th>\n",
       "      <th>HGB</th>\n",
       "    </tr>\n",
       "  </thead>\n",
       "  <tbody>\n",
       "    <tr>\n",
       "      <th>0</th>\n",
       "      <td>NaN</td>\n",
       "      <td>NaN</td>\n",
       "      <td>NaN</td>\n",
       "      <td>Red Blood Cell count</td>\n",
       "      <td>Packed Cell Volume</td>\n",
       "      <td>Mean Cell Volume</td>\n",
       "      <td>Mean Cell Hemoglobin</td>\n",
       "      <td>NaN</td>\n",
       "      <td>Red Cell Distribution width</td>\n",
       "      <td>White Blood Cell (WBC count),</td>\n",
       "      <td>Platelet</td>\n",
       "      <td>Hemoglobin</td>\n",
       "    </tr>\n",
       "    <tr>\n",
       "      <th>1</th>\n",
       "      <td>1.0</td>\n",
       "      <td>28.0</td>\n",
       "      <td>0.0</td>\n",
       "      <td>5.66</td>\n",
       "      <td>34</td>\n",
       "      <td>60.1</td>\n",
       "      <td>17</td>\n",
       "      <td>28.2</td>\n",
       "      <td>20</td>\n",
       "      <td>11.1</td>\n",
       "      <td>128.3</td>\n",
       "      <td>9.6</td>\n",
       "    </tr>\n",
       "    <tr>\n",
       "      <th>2</th>\n",
       "      <td>2.0</td>\n",
       "      <td>41.0</td>\n",
       "      <td>0.0</td>\n",
       "      <td>4.78</td>\n",
       "      <td>44.5</td>\n",
       "      <td>93.1</td>\n",
       "      <td>28.9</td>\n",
       "      <td>31.0</td>\n",
       "      <td>13</td>\n",
       "      <td>7.02</td>\n",
       "      <td>419</td>\n",
       "      <td>13.8</td>\n",
       "    </tr>\n",
       "    <tr>\n",
       "      <th>3</th>\n",
       "      <td>3.0</td>\n",
       "      <td>40.0</td>\n",
       "      <td>1.0</td>\n",
       "      <td>4.65</td>\n",
       "      <td>41.6</td>\n",
       "      <td>89.5</td>\n",
       "      <td>28.8</td>\n",
       "      <td>32.2</td>\n",
       "      <td>13</td>\n",
       "      <td>8.09</td>\n",
       "      <td>325</td>\n",
       "      <td>13.4</td>\n",
       "    </tr>\n",
       "    <tr>\n",
       "      <th>4</th>\n",
       "      <td>4.0</td>\n",
       "      <td>76.0</td>\n",
       "      <td>0.0</td>\n",
       "      <td>4.24</td>\n",
       "      <td>36.7</td>\n",
       "      <td>86.6</td>\n",
       "      <td>26.7</td>\n",
       "      <td>30.8</td>\n",
       "      <td>14.9</td>\n",
       "      <td>13.41</td>\n",
       "      <td>264</td>\n",
       "      <td>11.3</td>\n",
       "    </tr>\n",
       "  </tbody>\n",
       "</table>\n",
       "</div>"
      ],
      "text/plain": [
       "   S. No.   Age  Sex                   RBC                 PCV  \\\n",
       "0     NaN   NaN  NaN  Red Blood Cell count  Packed Cell Volume   \n",
       "1     1.0  28.0  0.0                  5.66                  34   \n",
       "2     2.0  41.0  0.0                  4.78                44.5   \n",
       "3     3.0  40.0  1.0                  4.65                41.6   \n",
       "4     4.0  76.0  0.0                  4.24                36.7   \n",
       "\n",
       "                MCV                   MCH  MCHC                          RDW  \\\n",
       "0  Mean Cell Volume  Mean Cell Hemoglobin   NaN  Red Cell Distribution width   \n",
       "1              60.1                    17  28.2                           20   \n",
       "2              93.1                  28.9  31.0                           13   \n",
       "3              89.5                  28.8  32.2                           13   \n",
       "4              86.6                  26.7  30.8                         14.9   \n",
       "\n",
       "                             TLC  PLT /mm3         HGB  \n",
       "0  White Blood Cell (WBC count),  Platelet  Hemoglobin  \n",
       "1                           11.1     128.3         9.6  \n",
       "2                           7.02       419        13.8  \n",
       "3                           8.09       325        13.4  \n",
       "4                          13.41       264        11.3  "
      ]
     },
     "execution_count": 9,
     "metadata": {},
     "output_type": "execute_result"
    }
   ],
   "source": [
    "df.head(5)"
   ]
  },
  {
   "cell_type": "code",
   "execution_count": 10,
   "id": "0d6d7fd7-9693-4a0b-87a3-cd30d0ea2943",
   "metadata": {},
   "outputs": [],
   "source": [
    "df.loc[df.index[0], 'MCHC'] = 'Mean corp. Hg concentration'"
   ]
  },
  {
   "cell_type": "code",
   "execution_count": 11,
   "id": "c71d5e32-ada0-4fcc-b3e5-cd53b0553a44",
   "metadata": {},
   "outputs": [],
   "source": [
    "#print(df[\"Unnamed: 32\"].value_counts())"
   ]
  },
  {
   "cell_type": "code",
   "execution_count": 12,
   "id": "da7a0923-325b-44b3-b604-72e193fa41ff",
   "metadata": {},
   "outputs": [],
   "source": [
    "df.drop(columns=[\"S. No.\"], axis=1, inplace=True)"
   ]
  },
  {
   "cell_type": "code",
   "execution_count": 13,
   "id": "b1f56104-a69c-41e4-9fb8-9a8e0caeb018",
   "metadata": {},
   "outputs": [
    {
     "name": "stdout",
     "output_type": "stream",
     "text": [
      " 0  -> Age\n",
      " 1  -> Sex\n",
      " 2  -> RBC\n",
      " 3  -> PCV\n",
      " 4  -> MCV\n",
      " 5  -> MCH\n",
      " 6  -> MCHC\n",
      " 7  -> RDW\n",
      " 8  -> TLC\n",
      " 9  -> PLT /mm3\n",
      " 10  -> HGB\n"
     ]
    }
   ],
   "source": [
    "column_names = df.columns\n",
    "\n",
    "list_column_names = list(column_names)\n",
    "\n",
    "for colname in list_column_names:\n",
    "    print(f\" {list_column_names.index(colname)}  -> {colname}\")"
   ]
  },
  {
   "cell_type": "code",
   "execution_count": null,
   "id": "cb61719c-3a57-4a78-b48c-c232a11d329b",
   "metadata": {},
   "outputs": [],
   "source": []
  },
  {
   "cell_type": "code",
   "execution_count": 14,
   "id": "a6377d0c-822b-4f48-9354-478f6d4656df",
   "metadata": {},
   "outputs": [],
   "source": [
    "#drop_col_list = [1,4,5,6,8,9,10,11,12,13,14,15,16,17,18,19,21,22,24,25,26,27,28,29,30,31]"
   ]
  },
  {
   "cell_type": "code",
   "execution_count": 15,
   "id": "34bb0721-fdde-49ea-be68-0d6d04d7f983",
   "metadata": {},
   "outputs": [],
   "source": [
    "#df.drop(df.columns[drop_col_list], axis=1, inplace=True)"
   ]
  },
  {
   "cell_type": "code",
   "execution_count": 16,
   "id": "db20951b-2a4d-495b-a1b5-a751376e4232",
   "metadata": {},
   "outputs": [],
   "source": [
    "#features = df.columns[1:] \n",
    "features = df.columns[:] # strange column 'S. No.' already droped"
   ]
  },
  {
   "cell_type": "code",
   "execution_count": 17,
   "id": "5eca1a60-b1fc-4d1c-a95d-2326f107199b",
   "metadata": {},
   "outputs": [
    {
     "data": {
      "text/plain": [
       "['Age',\n",
       " 'Sex',\n",
       " 'RBC',\n",
       " 'PCV',\n",
       " 'MCV',\n",
       " 'MCH',\n",
       " 'MCHC',\n",
       " 'RDW',\n",
       " 'TLC',\n",
       " 'PLT /mm3',\n",
       " 'HGB']"
      ]
     },
     "execution_count": 17,
     "metadata": {},
     "output_type": "execute_result"
    }
   ],
   "source": [
    "features = list(features)\n",
    "features"
   ]
  },
  {
   "cell_type": "code",
   "execution_count": 18,
   "id": "4302e5be-dcff-4e8c-a4d6-21716334c29a",
   "metadata": {},
   "outputs": [
    {
     "data": {
      "text/html": [
       "<div>\n",
       "<style scoped>\n",
       "    .dataframe tbody tr th:only-of-type {\n",
       "        vertical-align: middle;\n",
       "    }\n",
       "\n",
       "    .dataframe tbody tr th {\n",
       "        vertical-align: top;\n",
       "    }\n",
       "\n",
       "    .dataframe thead th {\n",
       "        text-align: right;\n",
       "    }\n",
       "</style>\n",
       "<table border=\"1\" class=\"dataframe\">\n",
       "  <thead>\n",
       "    <tr style=\"text-align: right;\">\n",
       "      <th></th>\n",
       "      <th>Age</th>\n",
       "      <th>Sex</th>\n",
       "      <th>RBC</th>\n",
       "      <th>PCV</th>\n",
       "      <th>MCV</th>\n",
       "      <th>MCH</th>\n",
       "      <th>MCHC</th>\n",
       "      <th>RDW</th>\n",
       "      <th>TLC</th>\n",
       "      <th>PLT /mm3</th>\n",
       "      <th>HGB</th>\n",
       "    </tr>\n",
       "  </thead>\n",
       "  <tbody>\n",
       "    <tr>\n",
       "      <th>0</th>\n",
       "      <td>NaN</td>\n",
       "      <td>NaN</td>\n",
       "      <td>Red Blood Cell count</td>\n",
       "      <td>Packed Cell Volume</td>\n",
       "      <td>Mean Cell Volume</td>\n",
       "      <td>Mean Cell Hemoglobin</td>\n",
       "      <td>Mean corp. Hg concentration</td>\n",
       "      <td>Red Cell Distribution width</td>\n",
       "      <td>White Blood Cell (WBC count),</td>\n",
       "      <td>Platelet</td>\n",
       "      <td>Hemoglobin</td>\n",
       "    </tr>\n",
       "    <tr>\n",
       "      <th>1</th>\n",
       "      <td>28.0</td>\n",
       "      <td>0.0</td>\n",
       "      <td>5.66</td>\n",
       "      <td>34</td>\n",
       "      <td>60.1</td>\n",
       "      <td>17</td>\n",
       "      <td>28.2</td>\n",
       "      <td>20</td>\n",
       "      <td>11.1</td>\n",
       "      <td>128.3</td>\n",
       "      <td>9.6</td>\n",
       "    </tr>\n",
       "    <tr>\n",
       "      <th>2</th>\n",
       "      <td>41.0</td>\n",
       "      <td>0.0</td>\n",
       "      <td>4.78</td>\n",
       "      <td>44.5</td>\n",
       "      <td>93.1</td>\n",
       "      <td>28.9</td>\n",
       "      <td>31.0</td>\n",
       "      <td>13</td>\n",
       "      <td>7.02</td>\n",
       "      <td>419</td>\n",
       "      <td>13.8</td>\n",
       "    </tr>\n",
       "    <tr>\n",
       "      <th>3</th>\n",
       "      <td>40.0</td>\n",
       "      <td>1.0</td>\n",
       "      <td>4.65</td>\n",
       "      <td>41.6</td>\n",
       "      <td>89.5</td>\n",
       "      <td>28.8</td>\n",
       "      <td>32.2</td>\n",
       "      <td>13</td>\n",
       "      <td>8.09</td>\n",
       "      <td>325</td>\n",
       "      <td>13.4</td>\n",
       "    </tr>\n",
       "    <tr>\n",
       "      <th>4</th>\n",
       "      <td>76.0</td>\n",
       "      <td>0.0</td>\n",
       "      <td>4.24</td>\n",
       "      <td>36.7</td>\n",
       "      <td>86.6</td>\n",
       "      <td>26.7</td>\n",
       "      <td>30.8</td>\n",
       "      <td>14.9</td>\n",
       "      <td>13.41</td>\n",
       "      <td>264</td>\n",
       "      <td>11.3</td>\n",
       "    </tr>\n",
       "  </tbody>\n",
       "</table>\n",
       "</div>"
      ],
      "text/plain": [
       "    Age  Sex                   RBC                 PCV               MCV  \\\n",
       "0   NaN  NaN  Red Blood Cell count  Packed Cell Volume  Mean Cell Volume   \n",
       "1  28.0  0.0                  5.66                  34              60.1   \n",
       "2  41.0  0.0                  4.78                44.5              93.1   \n",
       "3  40.0  1.0                  4.65                41.6              89.5   \n",
       "4  76.0  0.0                  4.24                36.7              86.6   \n",
       "\n",
       "                    MCH                         MCHC  \\\n",
       "0  Mean Cell Hemoglobin  Mean corp. Hg concentration   \n",
       "1                    17                         28.2   \n",
       "2                  28.9                         31.0   \n",
       "3                  28.8                         32.2   \n",
       "4                  26.7                         30.8   \n",
       "\n",
       "                           RDW                            TLC  PLT /mm3  \\\n",
       "0  Red Cell Distribution width  White Blood Cell (WBC count),  Platelet   \n",
       "1                           20                           11.1     128.3   \n",
       "2                           13                           7.02       419   \n",
       "3                           13                           8.09       325   \n",
       "4                         14.9                          13.41       264   \n",
       "\n",
       "          HGB  \n",
       "0  Hemoglobin  \n",
       "1         9.6  \n",
       "2        13.8  \n",
       "3        13.4  \n",
       "4        11.3  "
      ]
     },
     "execution_count": 18,
     "metadata": {},
     "output_type": "execute_result"
    }
   ],
   "source": [
    "df.head(5)"
   ]
  },
  {
   "cell_type": "code",
   "execution_count": 19,
   "id": "03e178b4-739d-412f-9470-c60df099438d",
   "metadata": {},
   "outputs": [
    {
     "data": {
      "text/plain": [
       "Age         float64\n",
       "Sex         float64\n",
       "RBC          object\n",
       "PCV          object\n",
       "MCV          object\n",
       "MCH          object\n",
       "MCHC         object\n",
       "RDW          object\n",
       "TLC          object\n",
       "PLT /mm3     object\n",
       "HGB          object\n",
       "dtype: object"
      ]
     },
     "execution_count": 19,
     "metadata": {},
     "output_type": "execute_result"
    }
   ],
   "source": [
    "df.dtypes"
   ]
  },
  {
   "cell_type": "code",
   "execution_count": 20,
   "id": "0f4bb8a2-6907-4a3f-97b9-36ade682e8b6",
   "metadata": {},
   "outputs": [
    {
     "name": "stdout",
     "output_type": "stream",
     "text": [
      "<class 'pandas.core.frame.DataFrame'>\n",
      "RangeIndex: 374 entries, 0 to 373\n",
      "Data columns (total 11 columns):\n",
      " #   Column    Non-Null Count  Dtype  \n",
      "---  ------    --------------  -----  \n",
      " 0   Age       364 non-null    float64\n",
      " 1   Sex       364 non-null    float64\n",
      " 2   RBC       365 non-null    object \n",
      " 3   PCV       365 non-null    object \n",
      " 4   MCV       365 non-null    object \n",
      " 5   MCH       365 non-null    object \n",
      " 6   MCHC      365 non-null    object \n",
      " 7   RDW       365 non-null    object \n",
      " 8   TLC       365 non-null    object \n",
      " 9   PLT /mm3  365 non-null    object \n",
      " 10  HGB       365 non-null    object \n",
      "dtypes: float64(2), object(9)\n",
      "memory usage: 32.3+ KB\n"
     ]
    }
   ],
   "source": [
    "df.info()"
   ]
  },
  {
   "cell_type": "code",
   "execution_count": 21,
   "id": "a1d8605d-c42d-44ee-8b26-3d0449bc32d5",
   "metadata": {},
   "outputs": [
    {
     "data": {
      "text/plain": [
       "'\\nfor colname in features[2:]:\\n    errors=0\\n    try:\\n        df[colname] = pd.to_numeric(df[colname])\\n    except ValueError as ve:\\n        errors += 1\\n        print(ve,\"   \",errors)\\n'"
      ]
     },
     "execution_count": 21,
     "metadata": {},
     "output_type": "execute_result"
    }
   ],
   "source": [
    "\"\"\"\n",
    "for colname in features[2:]:\n",
    "    errors=0\n",
    "    try:\n",
    "        df[colname] = pd.to_numeric(df[colname])\n",
    "    except ValueError as ve:\n",
    "        errors += 1\n",
    "        print(ve,\"   \",errors)\n",
    "\"\"\""
   ]
  },
  {
   "cell_type": "code",
   "execution_count": 22,
   "id": "e9cab85b-403b-440f-a293-aaa13cd4f885",
   "metadata": {},
   "outputs": [
    {
     "data": {
      "text/plain": [
       "Age                                   NaN\n",
       "Sex                                   NaN\n",
       "RBC                  Red Blood Cell count\n",
       "PCV                    Packed Cell Volume\n",
       "MCV                      Mean Cell Volume\n",
       "MCH                  Mean Cell Hemoglobin\n",
       "MCHC          Mean corp. Hg concentration\n",
       "RDW           Red Cell Distribution width\n",
       "TLC         White Blood Cell (WBC count),\n",
       "PLT /mm3                         Platelet\n",
       "HGB                            Hemoglobin\n",
       "Name: 0, dtype: object"
      ]
     },
     "execution_count": 22,
     "metadata": {},
     "output_type": "execute_result"
    }
   ],
   "source": [
    "header_row = df.iloc[0].copy()\n",
    "header_row"
   ]
  },
  {
   "cell_type": "code",
   "execution_count": 23,
   "id": "3cea3ace-81c6-425b-adb9-3236bdad28b4",
   "metadata": {},
   "outputs": [
    {
     "data": {
      "text/html": [
       "<div>\n",
       "<style scoped>\n",
       "    .dataframe tbody tr th:only-of-type {\n",
       "        vertical-align: middle;\n",
       "    }\n",
       "\n",
       "    .dataframe tbody tr th {\n",
       "        vertical-align: top;\n",
       "    }\n",
       "\n",
       "    .dataframe thead th {\n",
       "        text-align: right;\n",
       "    }\n",
       "</style>\n",
       "<table border=\"1\" class=\"dataframe\">\n",
       "  <thead>\n",
       "    <tr style=\"text-align: right;\">\n",
       "      <th></th>\n",
       "      <th>Age</th>\n",
       "      <th>Sex</th>\n",
       "      <th>RBC</th>\n",
       "      <th>PCV</th>\n",
       "      <th>MCV</th>\n",
       "      <th>MCH</th>\n",
       "      <th>MCHC</th>\n",
       "      <th>RDW</th>\n",
       "      <th>TLC</th>\n",
       "      <th>PLT /mm3</th>\n",
       "      <th>HGB</th>\n",
       "    </tr>\n",
       "  </thead>\n",
       "  <tbody>\n",
       "    <tr>\n",
       "      <th>1</th>\n",
       "      <td>28.0</td>\n",
       "      <td>0.0</td>\n",
       "      <td>5.66</td>\n",
       "      <td>34</td>\n",
       "      <td>60.1</td>\n",
       "      <td>17</td>\n",
       "      <td>28.2</td>\n",
       "      <td>20</td>\n",
       "      <td>11.1</td>\n",
       "      <td>128.3</td>\n",
       "      <td>9.6</td>\n",
       "    </tr>\n",
       "    <tr>\n",
       "      <th>2</th>\n",
       "      <td>41.0</td>\n",
       "      <td>0.0</td>\n",
       "      <td>4.78</td>\n",
       "      <td>44.5</td>\n",
       "      <td>93.1</td>\n",
       "      <td>28.9</td>\n",
       "      <td>31.0</td>\n",
       "      <td>13</td>\n",
       "      <td>7.02</td>\n",
       "      <td>419</td>\n",
       "      <td>13.8</td>\n",
       "    </tr>\n",
       "    <tr>\n",
       "      <th>3</th>\n",
       "      <td>40.0</td>\n",
       "      <td>1.0</td>\n",
       "      <td>4.65</td>\n",
       "      <td>41.6</td>\n",
       "      <td>89.5</td>\n",
       "      <td>28.8</td>\n",
       "      <td>32.2</td>\n",
       "      <td>13</td>\n",
       "      <td>8.09</td>\n",
       "      <td>325</td>\n",
       "      <td>13.4</td>\n",
       "    </tr>\n",
       "    <tr>\n",
       "      <th>4</th>\n",
       "      <td>76.0</td>\n",
       "      <td>0.0</td>\n",
       "      <td>4.24</td>\n",
       "      <td>36.7</td>\n",
       "      <td>86.6</td>\n",
       "      <td>26.7</td>\n",
       "      <td>30.8</td>\n",
       "      <td>14.9</td>\n",
       "      <td>13.41</td>\n",
       "      <td>264</td>\n",
       "      <td>11.3</td>\n",
       "    </tr>\n",
       "    <tr>\n",
       "      <th>5</th>\n",
       "      <td>20.0</td>\n",
       "      <td>1.0</td>\n",
       "      <td>4.14</td>\n",
       "      <td>36.9</td>\n",
       "      <td>89.1</td>\n",
       "      <td>27.8</td>\n",
       "      <td>31.2</td>\n",
       "      <td>13.2</td>\n",
       "      <td>4.75</td>\n",
       "      <td>196</td>\n",
       "      <td>11.5</td>\n",
       "    </tr>\n",
       "    <tr>\n",
       "      <th>...</th>\n",
       "      <td>...</td>\n",
       "      <td>...</td>\n",
       "      <td>...</td>\n",
       "      <td>...</td>\n",
       "      <td>...</td>\n",
       "      <td>...</td>\n",
       "      <td>...</td>\n",
       "      <td>...</td>\n",
       "      <td>...</td>\n",
       "      <td>...</td>\n",
       "      <td>...</td>\n",
       "    </tr>\n",
       "    <tr>\n",
       "      <th>369</th>\n",
       "      <td>NaN</td>\n",
       "      <td>NaN</td>\n",
       "      <td>NaN</td>\n",
       "      <td>NaN</td>\n",
       "      <td>NaN</td>\n",
       "      <td>NaN</td>\n",
       "      <td>NaN</td>\n",
       "      <td>NaN</td>\n",
       "      <td>NaN</td>\n",
       "      <td>NaN</td>\n",
       "      <td>NaN</td>\n",
       "    </tr>\n",
       "    <tr>\n",
       "      <th>370</th>\n",
       "      <td>NaN</td>\n",
       "      <td>NaN</td>\n",
       "      <td>NaN</td>\n",
       "      <td>NaN</td>\n",
       "      <td>NaN</td>\n",
       "      <td>NaN</td>\n",
       "      <td>NaN</td>\n",
       "      <td>NaN</td>\n",
       "      <td>NaN</td>\n",
       "      <td>NaN</td>\n",
       "      <td>NaN</td>\n",
       "    </tr>\n",
       "    <tr>\n",
       "      <th>371</th>\n",
       "      <td>NaN</td>\n",
       "      <td>NaN</td>\n",
       "      <td>NaN</td>\n",
       "      <td>NaN</td>\n",
       "      <td>NaN</td>\n",
       "      <td>NaN</td>\n",
       "      <td>NaN</td>\n",
       "      <td>NaN</td>\n",
       "      <td>NaN</td>\n",
       "      <td>NaN</td>\n",
       "      <td>NaN</td>\n",
       "    </tr>\n",
       "    <tr>\n",
       "      <th>372</th>\n",
       "      <td>NaN</td>\n",
       "      <td>NaN</td>\n",
       "      <td>NaN</td>\n",
       "      <td>NaN</td>\n",
       "      <td>NaN</td>\n",
       "      <td>NaN</td>\n",
       "      <td>NaN</td>\n",
       "      <td>NaN</td>\n",
       "      <td>NaN</td>\n",
       "      <td>NaN</td>\n",
       "      <td>NaN</td>\n",
       "    </tr>\n",
       "    <tr>\n",
       "      <th>373</th>\n",
       "      <td>NaN</td>\n",
       "      <td>NaN</td>\n",
       "      <td>NaN</td>\n",
       "      <td>NaN</td>\n",
       "      <td>NaN</td>\n",
       "      <td>NaN</td>\n",
       "      <td>NaN</td>\n",
       "      <td>NaN</td>\n",
       "      <td>NaN</td>\n",
       "      <td>NaN</td>\n",
       "      <td>NaN</td>\n",
       "    </tr>\n",
       "  </tbody>\n",
       "</table>\n",
       "<p>373 rows × 11 columns</p>\n",
       "</div>"
      ],
      "text/plain": [
       "      Age  Sex   RBC   PCV   MCV   MCH  MCHC   RDW    TLC PLT /mm3   HGB\n",
       "1    28.0  0.0  5.66    34  60.1    17  28.2    20   11.1    128.3   9.6\n",
       "2    41.0  0.0  4.78  44.5  93.1  28.9  31.0    13   7.02      419  13.8\n",
       "3    40.0  1.0  4.65  41.6  89.5  28.8  32.2    13   8.09      325  13.4\n",
       "4    76.0  0.0  4.24  36.7  86.6  26.7  30.8  14.9  13.41      264  11.3\n",
       "5    20.0  1.0  4.14  36.9  89.1  27.8  31.2  13.2   4.75      196  11.5\n",
       "..    ...  ...   ...   ...   ...   ...   ...   ...    ...      ...   ...\n",
       "369   NaN  NaN   NaN   NaN   NaN   NaN   NaN   NaN    NaN      NaN   NaN\n",
       "370   NaN  NaN   NaN   NaN   NaN   NaN   NaN   NaN    NaN      NaN   NaN\n",
       "371   NaN  NaN   NaN   NaN   NaN   NaN   NaN   NaN    NaN      NaN   NaN\n",
       "372   NaN  NaN   NaN   NaN   NaN   NaN   NaN   NaN    NaN      NaN   NaN\n",
       "373   NaN  NaN   NaN   NaN   NaN   NaN   NaN   NaN    NaN      NaN   NaN\n",
       "\n",
       "[373 rows x 11 columns]"
      ]
     },
     "execution_count": 23,
     "metadata": {},
     "output_type": "execute_result"
    }
   ],
   "source": [
    "df = df.drop([df.index[0]])\n",
    " \n",
    "df"
   ]
  },
  {
   "cell_type": "code",
   "execution_count": 24,
   "id": "e751f29c-49c2-4c15-b5e4-36c3c925d21e",
   "metadata": {},
   "outputs": [],
   "source": [
    "for colname in features[2:]:\n",
    "    errors=0\n",
    "    try:\n",
    "        df[colname] = pd.to_numeric(df[colname])\n",
    "    except ValueError as ve:\n",
    "        errors += 1\n",
    "        print(ve,\"   \",errors)"
   ]
  },
  {
   "cell_type": "code",
   "execution_count": 25,
   "id": "1bca1112-d311-4f9a-a422-bd510dd820c4",
   "metadata": {},
   "outputs": [
    {
     "data": {
      "text/plain": [
       "Age         float64\n",
       "Sex         float64\n",
       "RBC         float64\n",
       "PCV         float64\n",
       "MCV         float64\n",
       "MCH         float64\n",
       "MCHC        float64\n",
       "RDW         float64\n",
       "TLC         float64\n",
       "PLT /mm3    float64\n",
       "HGB         float64\n",
       "dtype: object"
      ]
     },
     "execution_count": 25,
     "metadata": {},
     "output_type": "execute_result"
    }
   ],
   "source": [
    "df.dtypes"
   ]
  },
  {
   "cell_type": "code",
   "execution_count": 26,
   "id": "7b3b5b2a-a6ad-4c2d-a066-a644578c3a0f",
   "metadata": {},
   "outputs": [
    {
     "data": {
      "text/plain": [
       "4.47    6\n",
       "4.10    6\n",
       "4.33    5\n",
       "4.86    5\n",
       "5.17    4\n",
       "       ..\n",
       "3.37    1\n",
       "3.21    1\n",
       "5.07    1\n",
       "4.07    1\n",
       "3.42    1\n",
       "Name: RBC, Length: 195, dtype: int64"
      ]
     },
     "execution_count": 26,
     "metadata": {},
     "output_type": "execute_result"
    }
   ],
   "source": [
    "df[\"RBC\"].value_counts()"
   ]
  },
  {
   "cell_type": "code",
   "execution_count": 27,
   "id": "810f64b4-1360-4781-bba4-fc8887ba5887",
   "metadata": {},
   "outputs": [],
   "source": [
    "#  Count NaN values across a single DataFrame row: df.loc[[index value]].isna().sum().sum()"
   ]
  },
  {
   "cell_type": "code",
   "execution_count": 28,
   "id": "ad84356c-a667-46cf-ae9d-86a41ff4cbf0",
   "metadata": {},
   "outputs": [
    {
     "data": {
      "text/plain": [
       "9"
      ]
     },
     "execution_count": 28,
     "metadata": {},
     "output_type": "execute_result"
    }
   ],
   "source": [
    "df['RBC'].isna().sum()"
   ]
  },
  {
   "cell_type": "code",
   "execution_count": 29,
   "id": "7d638e30-cac1-4bea-a9dd-b947180f764e",
   "metadata": {},
   "outputs": [
    {
     "data": {
      "text/plain": [
       "99"
      ]
     },
     "execution_count": 29,
     "metadata": {},
     "output_type": "execute_result"
    }
   ],
   "source": [
    "df.isna().sum().sum()"
   ]
  },
  {
   "cell_type": "code",
   "execution_count": 30,
   "id": "dacddc47-f34c-4183-aa66-b92998307caa",
   "metadata": {},
   "outputs": [
    {
     "data": {
      "text/html": [
       "<div>\n",
       "<style scoped>\n",
       "    .dataframe tbody tr th:only-of-type {\n",
       "        vertical-align: middle;\n",
       "    }\n",
       "\n",
       "    .dataframe tbody tr th {\n",
       "        vertical-align: top;\n",
       "    }\n",
       "\n",
       "    .dataframe thead th {\n",
       "        text-align: right;\n",
       "    }\n",
       "</style>\n",
       "<table border=\"1\" class=\"dataframe\">\n",
       "  <thead>\n",
       "    <tr style=\"text-align: right;\">\n",
       "      <th></th>\n",
       "      <th>Age</th>\n",
       "      <th>Sex</th>\n",
       "      <th>RBC</th>\n",
       "      <th>PCV</th>\n",
       "      <th>MCV</th>\n",
       "      <th>MCH</th>\n",
       "      <th>MCHC</th>\n",
       "      <th>RDW</th>\n",
       "      <th>TLC</th>\n",
       "      <th>PLT /mm3</th>\n",
       "      <th>HGB</th>\n",
       "    </tr>\n",
       "  </thead>\n",
       "  <tbody>\n",
       "    <tr>\n",
       "      <th>min</th>\n",
       "      <td>11.000000</td>\n",
       "      <td>0.000000</td>\n",
       "      <td>1.360000</td>\n",
       "      <td>13.100000</td>\n",
       "      <td>55.700000</td>\n",
       "      <td>14.700000</td>\n",
       "      <td>23.600000</td>\n",
       "      <td>10.600000</td>\n",
       "      <td>2.000000</td>\n",
       "      <td>10.000000</td>\n",
       "      <td>4.200000</td>\n",
       "    </tr>\n",
       "    <tr>\n",
       "      <th>max</th>\n",
       "      <td>89.000000</td>\n",
       "      <td>1.000000</td>\n",
       "      <td>6.900000</td>\n",
       "      <td>56.900000</td>\n",
       "      <td>124.100000</td>\n",
       "      <td>41.400000</td>\n",
       "      <td>50.200000</td>\n",
       "      <td>29.200000</td>\n",
       "      <td>42.420000</td>\n",
       "      <td>660.000000</td>\n",
       "      <td>19.600000</td>\n",
       "    </tr>\n",
       "    <tr>\n",
       "      <th>mean</th>\n",
       "      <td>44.917582</td>\n",
       "      <td>0.442308</td>\n",
       "      <td>4.278736</td>\n",
       "      <td>36.762912</td>\n",
       "      <td>87.509121</td>\n",
       "      <td>28.227143</td>\n",
       "      <td>32.053407</td>\n",
       "      <td>15.116511</td>\n",
       "      <td>8.863571</td>\n",
       "      <td>223.750824</td>\n",
       "      <td>11.907692</td>\n",
       "    </tr>\n",
       "  </tbody>\n",
       "</table>\n",
       "</div>"
      ],
      "text/plain": [
       "            Age       Sex       RBC        PCV         MCV        MCH  \\\n",
       "min   11.000000  0.000000  1.360000  13.100000   55.700000  14.700000   \n",
       "max   89.000000  1.000000  6.900000  56.900000  124.100000  41.400000   \n",
       "mean  44.917582  0.442308  4.278736  36.762912   87.509121  28.227143   \n",
       "\n",
       "           MCHC        RDW        TLC    PLT /mm3        HGB  \n",
       "min   23.600000  10.600000   2.000000   10.000000   4.200000  \n",
       "max   50.200000  29.200000  42.420000  660.000000  19.600000  \n",
       "mean  32.053407  15.116511   8.863571  223.750824  11.907692  "
      ]
     },
     "execution_count": 30,
     "metadata": {},
     "output_type": "execute_result"
    }
   ],
   "source": [
    "min_max_mean = df.describe().loc[['min', 'max', 'mean']]\n",
    "\n",
    "min_max_mean"
   ]
  },
  {
   "cell_type": "code",
   "execution_count": null,
   "id": "4886d786-39d5-4243-baba-98163ab563c7",
   "metadata": {},
   "outputs": [],
   "source": []
  },
  {
   "cell_type": "code",
   "execution_count": 31,
   "id": "0cc07c59-6093-459b-9e1a-a3299d55936f",
   "metadata": {},
   "outputs": [],
   "source": [
    "#df['__All causes__'] = df.sum(axis=1, numeric_only=True)\n",
    "#df"
   ]
  },
  {
   "cell_type": "code",
   "execution_count": 32,
   "id": "c01dfe55-ac0f-4ee9-b963-f4e16bcd146d",
   "metadata": {},
   "outputs": [],
   "source": [
    "#df.loc['index_of_world']= df.sum() # not integer\n",
    "#df.loc[999]= df.sum() # pandas positional indexers are out-of-bounds\n",
    "#df.loc[191]= df.sum()\n",
    "#df"
   ]
  },
  {
   "cell_type": "code",
   "execution_count": 33,
   "id": "4bbef4bf-91bd-47c2-b865-3ae8d74e98e0",
   "metadata": {},
   "outputs": [
    {
     "ename": "SyntaxError",
     "evalue": "invalid syntax (403670585.py, line 1)",
     "output_type": "error",
     "traceback": [
      "\u001b[0;36m  File \u001b[0;32m\"/tmp/ipykernel_10238/403670585.py\"\u001b[0;36m, line \u001b[0;32m1\u001b[0m\n\u001b[0;31m    moyenne et medianes, quartiles ...\u001b[0m\n\u001b[0m            ^\u001b[0m\n\u001b[0;31mSyntaxError\u001b[0m\u001b[0;31m:\u001b[0m invalid syntax\n"
     ]
    }
   ],
   "source": []
  },
  {
   "cell_type": "code",
   "execution_count": null,
   "id": "10b925bf-4a2b-44fe-adec-0975bc46af24",
   "metadata": {},
   "outputs": [],
   "source": []
  },
  {
   "cell_type": "code",
   "execution_count": null,
   "id": "c9148b61-5dfc-45a3-a01f-e98f8725f9f7",
   "metadata": {},
   "outputs": [],
   "source": []
  },
  {
   "cell_type": "code",
   "execution_count": null,
   "id": "61d9fd87-3e95-4bdb-9041-c028b4e6c4b8",
   "metadata": {},
   "outputs": [],
   "source": []
  },
  {
   "cell_type": "code",
   "execution_count": null,
   "id": "ba642e55-88bc-4c9e-bf27-016307c430a2",
   "metadata": {},
   "outputs": [],
   "source": []
  },
  {
   "cell_type": "code",
   "execution_count": null,
   "id": "bfc3f66b-a636-42ce-a2db-c1754afa73ff",
   "metadata": {},
   "outputs": [],
   "source": []
  },
  {
   "cell_type": "code",
   "execution_count": null,
   "id": "ffb7714d-6a42-4ad2-b226-c18a01c57915",
   "metadata": {},
   "outputs": [],
   "source": []
  },
  {
   "cell_type": "code",
   "execution_count": null,
   "id": "655ed920-8508-4a88-b5ad-242896e98da6",
   "metadata": {},
   "outputs": [],
   "source": []
  },
  {
   "cell_type": "code",
   "execution_count": null,
   "id": "2e3630bd-57cb-44f1-8287-0ebab9b9c095",
   "metadata": {},
   "outputs": [],
   "source": []
  },
  {
   "cell_type": "code",
   "execution_count": null,
   "id": "435ceeeb-f56e-4b42-aee1-d00e34a6cc68",
   "metadata": {},
   "outputs": [],
   "source": []
  },
  {
   "cell_type": "code",
   "execution_count": null,
   "id": "45fa8954-787c-41d6-8eab-e0ec9dabf579",
   "metadata": {},
   "outputs": [],
   "source": []
  },
  {
   "cell_type": "code",
   "execution_count": null,
   "id": "2da439f8-105a-45ab-a244-5e4586889005",
   "metadata": {},
   "outputs": [],
   "source": [
    "\n"
   ]
  },
  {
   "cell_type": "code",
   "execution_count": null,
   "id": "f944657b-c46c-449b-aa2c-671341f3bd1a",
   "metadata": {},
   "outputs": [],
   "source": []
  },
  {
   "cell_type": "code",
   "execution_count": null,
   "id": "1e2f6033-d3d7-4c6e-b546-b6776d5d107c",
   "metadata": {},
   "outputs": [],
   "source": []
  },
  {
   "cell_type": "code",
   "execution_count": null,
   "id": "4f622ce2-71a3-443f-b51e-d0669237f414",
   "metadata": {},
   "outputs": [],
   "source": []
  },
  {
   "cell_type": "code",
   "execution_count": null,
   "id": "49fa7a72-6511-41a6-985f-01f7e946e9ef",
   "metadata": {},
   "outputs": [],
   "source": []
  },
  {
   "cell_type": "code",
   "execution_count": null,
   "id": "9a18f772-a4aa-4e44-b626-40c68be7aaa1",
   "metadata": {},
   "outputs": [],
   "source": []
  },
  {
   "cell_type": "code",
   "execution_count": null,
   "id": "be6d7eed-6d05-40f2-90f6-d3fb8c1efa5d",
   "metadata": {},
   "outputs": [],
   "source": []
  },
  {
   "cell_type": "code",
   "execution_count": null,
   "id": "fd7c16ab-b1e5-4b0c-8a33-39686bf29849",
   "metadata": {},
   "outputs": [],
   "source": []
  },
  {
   "cell_type": "code",
   "execution_count": null,
   "id": "d6ed6ce6-f6d1-44d9-be4d-563d054cfddb",
   "metadata": {},
   "outputs": [],
   "source": []
  },
  {
   "cell_type": "code",
   "execution_count": null,
   "id": "4f675bca-0441-4326-a019-28159745ff32",
   "metadata": {},
   "outputs": [],
   "source": []
  },
  {
   "cell_type": "code",
   "execution_count": null,
   "id": "3c3683b7-47bf-40e4-ae7d-4b02f04e5c17",
   "metadata": {},
   "outputs": [],
   "source": []
  },
  {
   "cell_type": "code",
   "execution_count": null,
   "id": "05a9485a-e631-4603-9f87-6f4e0807f3d5",
   "metadata": {},
   "outputs": [],
   "source": [
    "#pd.set_option('display.max_rows',None)\n",
    "#df_from_dict[\"Country Name\"]\n",
    "#pd.reset_option(\"display\")"
   ]
  },
  {
   "cell_type": "code",
   "execution_count": null,
   "id": "8d8e8b39-d379-48ec-b5be-b55a5af12678",
   "metadata": {},
   "outputs": [],
   "source": []
  },
  {
   "cell_type": "code",
   "execution_count": null,
   "id": "5c3d5853-ad8d-4c68-b6ac-f073e3c471a9",
   "metadata": {},
   "outputs": [],
   "source": []
  },
  {
   "cell_type": "code",
   "execution_count": null,
   "id": "a4b98d04-107e-476e-b7fa-06f92f7b13e6",
   "metadata": {},
   "outputs": [],
   "source": []
  },
  {
   "cell_type": "code",
   "execution_count": null,
   "id": "06a2306f-c0ab-478b-becc-624bf71ce8d8",
   "metadata": {},
   "outputs": [],
   "source": []
  },
  {
   "cell_type": "code",
   "execution_count": null,
   "id": "784fdd2c-dd17-44a2-9031-c359d9eeaf77",
   "metadata": {},
   "outputs": [],
   "source": []
  },
  {
   "cell_type": "code",
   "execution_count": null,
   "id": "d82422d2-0975-4ac0-9b8a-115355759503",
   "metadata": {},
   "outputs": [],
   "source": [
    "#df.dtypes"
   ]
  },
  {
   "cell_type": "code",
   "execution_count": null,
   "id": "6865896c-ef56-494c-a7a3-2a4c93dfc963",
   "metadata": {},
   "outputs": [],
   "source": [
    "#df.info()"
   ]
  },
  {
   "cell_type": "code",
   "execution_count": null,
   "id": "3af4e281-7d25-477e-89e7-689219e8bdea",
   "metadata": {},
   "outputs": [],
   "source": []
  },
  {
   "cell_type": "code",
   "execution_count": null,
   "id": "a249c415-fd16-4559-ad1c-37342ef928c9",
   "metadata": {},
   "outputs": [],
   "source": []
  },
  {
   "cell_type": "code",
   "execution_count": null,
   "id": "68698b77-c1fb-4af0-a7c9-63c7ded5ab94",
   "metadata": {},
   "outputs": [],
   "source": []
  },
  {
   "cell_type": "code",
   "execution_count": null,
   "id": "0e8fd3e5-4254-4830-9418-fec06238fcb4",
   "metadata": {},
   "outputs": [],
   "source": []
  },
  {
   "cell_type": "code",
   "execution_count": null,
   "id": "bd137e3a-6e70-4900-81db-cd682ac05fc9",
   "metadata": {},
   "outputs": [],
   "source": []
  },
  {
   "cell_type": "code",
   "execution_count": null,
   "id": "3c7f8983-558f-42ef-8232-8bda927d5318",
   "metadata": {},
   "outputs": [],
   "source": []
  },
  {
   "cell_type": "code",
   "execution_count": null,
   "id": "72767888-f62e-4713-a8db-141fbc753904",
   "metadata": {},
   "outputs": [],
   "source": []
  },
  {
   "cell_type": "code",
   "execution_count": null,
   "id": "c03a8eb6-c60b-4998-a508-7d8ba1b5ffd0",
   "metadata": {},
   "outputs": [],
   "source": []
  },
  {
   "cell_type": "code",
   "execution_count": null,
   "id": "a80cecb4-6295-44ed-baf9-34648786371c",
   "metadata": {},
   "outputs": [],
   "source": []
  },
  {
   "cell_type": "code",
   "execution_count": null,
   "id": "b1c75517-74d2-4057-82d7-0addee33e663",
   "metadata": {},
   "outputs": [],
   "source": []
  },
  {
   "cell_type": "code",
   "execution_count": null,
   "id": "5fce284e-131e-4079-9ef0-a5782d2a4f85",
   "metadata": {},
   "outputs": [],
   "source": []
  },
  {
   "cell_type": "code",
   "execution_count": null,
   "id": "81757f69-6c12-44ef-a46b-60e43bf1d939",
   "metadata": {},
   "outputs": [],
   "source": []
  },
  {
   "cell_type": "code",
   "execution_count": null,
   "id": "d44fd526-d268-4591-b039-6a1fc285ff16",
   "metadata": {},
   "outputs": [],
   "source": []
  },
  {
   "cell_type": "code",
   "execution_count": null,
   "id": "c02cec53-352f-4fe0-a72b-3d7a5f983f9e",
   "metadata": {},
   "outputs": [],
   "source": []
  },
  {
   "cell_type": "code",
   "execution_count": null,
   "id": "3ebe58af-3640-4b4b-b5b3-542f235167d9",
   "metadata": {},
   "outputs": [],
   "source": []
  },
  {
   "cell_type": "code",
   "execution_count": null,
   "id": "7126dc10-a806-4643-9153-6f82477964af",
   "metadata": {},
   "outputs": [],
   "source": []
  },
  {
   "cell_type": "code",
   "execution_count": null,
   "id": "35e1f083-2f90-438a-886e-bbcde968be2c",
   "metadata": {},
   "outputs": [],
   "source": []
  },
  {
   "cell_type": "code",
   "execution_count": null,
   "id": "aab66e7c-720d-451c-9d80-027f27119bcf",
   "metadata": {},
   "outputs": [],
   "source": []
  },
  {
   "cell_type": "code",
   "execution_count": null,
   "id": "55a63d4b-474d-4a1f-915f-f95d6c12caab",
   "metadata": {},
   "outputs": [],
   "source": []
  },
  {
   "cell_type": "code",
   "execution_count": null,
   "id": "c41d9470-c953-4735-a6b4-33b1c3554802",
   "metadata": {},
   "outputs": [],
   "source": []
  },
  {
   "cell_type": "code",
   "execution_count": null,
   "id": "08276046-3ddd-4046-aad5-22c3e96b5c6f",
   "metadata": {},
   "outputs": [],
   "source": []
  },
  {
   "cell_type": "code",
   "execution_count": null,
   "id": "7872a618-6a56-4314-a8ae-5fed77941e68",
   "metadata": {},
   "outputs": [],
   "source": [
    "\n",
    "\n",
    "\n"
   ]
  },
  {
   "cell_type": "code",
   "execution_count": null,
   "id": "7c57a87f-92e7-496a-845b-c121a8e453e3",
   "metadata": {},
   "outputs": [],
   "source": []
  },
  {
   "cell_type": "code",
   "execution_count": null,
   "id": "784594ec-9b0c-4ccb-9258-235c857401ab",
   "metadata": {},
   "outputs": [],
   "source": []
  },
  {
   "cell_type": "code",
   "execution_count": null,
   "id": "93608bc6-ea30-4593-b108-ed2df1bfcb1d",
   "metadata": {},
   "outputs": [],
   "source": []
  },
  {
   "cell_type": "code",
   "execution_count": null,
   "id": "3e4379bf-de14-4964-a6d8-24825fadf42a",
   "metadata": {},
   "outputs": [],
   "source": []
  },
  {
   "cell_type": "code",
   "execution_count": null,
   "id": "6cd933cf-c90f-4dc4-bef5-710015884f4f",
   "metadata": {},
   "outputs": [],
   "source": []
  },
  {
   "cell_type": "code",
   "execution_count": null,
   "id": "82df56df-a688-4dee-a4cb-a95e24d42014",
   "metadata": {},
   "outputs": [],
   "source": []
  },
  {
   "cell_type": "code",
   "execution_count": null,
   "id": "acb3f585-0154-4bf8-b753-dbd6a3009850",
   "metadata": {},
   "outputs": [],
   "source": []
  },
  {
   "cell_type": "code",
   "execution_count": null,
   "id": "0779a801-d2e2-4b2d-87a3-1ba517dd678c",
   "metadata": {},
   "outputs": [],
   "source": []
  },
  {
   "cell_type": "code",
   "execution_count": null,
   "id": "520007df-f203-4d3a-a256-9ff1772d2238",
   "metadata": {},
   "outputs": [],
   "source": []
  },
  {
   "cell_type": "code",
   "execution_count": null,
   "id": "c248bd71-25f7-4a91-b755-3119cbf45a29",
   "metadata": {},
   "outputs": [],
   "source": []
  },
  {
   "cell_type": "code",
   "execution_count": null,
   "id": "c196ec6c-bb94-49b1-9542-5f98b3ab1e09",
   "metadata": {},
   "outputs": [],
   "source": []
  },
  {
   "cell_type": "code",
   "execution_count": null,
   "id": "f23adcab-e548-4232-bf48-70b3d066fdb3",
   "metadata": {},
   "outputs": [],
   "source": []
  },
  {
   "cell_type": "code",
   "execution_count": null,
   "id": "14698c02-4785-4c36-9548-730a9158390c",
   "metadata": {},
   "outputs": [],
   "source": []
  },
  {
   "cell_type": "code",
   "execution_count": null,
   "id": "fb1f10e8-b5df-481b-94c1-896fce366ae4",
   "metadata": {},
   "outputs": [],
   "source": []
  },
  {
   "cell_type": "code",
   "execution_count": null,
   "id": "6a4d1b02-5b36-43fa-a6d5-26af1fa171c2",
   "metadata": {},
   "outputs": [],
   "source": [
    "#df_for_pie_to_dict"
   ]
  },
  {
   "cell_type": "code",
   "execution_count": null,
   "id": "d6d9c98c-db7d-41aa-a655-9f89b0938752",
   "metadata": {},
   "outputs": [],
   "source": []
  },
  {
   "cell_type": "code",
   "execution_count": null,
   "id": "59a70829-fe17-406e-a426-9501e33264e8",
   "metadata": {},
   "outputs": [],
   "source": []
  },
  {
   "cell_type": "code",
   "execution_count": null,
   "id": "5d28c447-4e25-4f72-a170-2f5951cf9686",
   "metadata": {},
   "outputs": [],
   "source": [
    "#national_diseases_percent_colnames"
   ]
  },
  {
   "cell_type": "code",
   "execution_count": null,
   "id": "095eb883-ca34-401e-b822-df43b6bf6f89",
   "metadata": {},
   "outputs": [],
   "source": []
  },
  {
   "cell_type": "code",
   "execution_count": null,
   "id": "d441c3c4-6470-43e3-82e5-b7022434171e",
   "metadata": {},
   "outputs": [],
   "source": []
  },
  {
   "cell_type": "code",
   "execution_count": null,
   "id": "464b8387-29a4-4935-97a7-bdb65557dcf0",
   "metadata": {},
   "outputs": [],
   "source": [
    "\n"
   ]
  },
  {
   "cell_type": "code",
   "execution_count": null,
   "id": "b160050b-e4ab-4407-8ca0-65dadd7028d5",
   "metadata": {},
   "outputs": [],
   "source": []
  },
  {
   "cell_type": "code",
   "execution_count": null,
   "id": "2747ef49-fb3b-42f7-b433-6aec6289aecb",
   "metadata": {},
   "outputs": [],
   "source": []
  },
  {
   "cell_type": "code",
   "execution_count": null,
   "id": "8495c8c9-777c-493d-9cf5-88cca78f533b",
   "metadata": {},
   "outputs": [],
   "source": []
  },
  {
   "cell_type": "code",
   "execution_count": null,
   "id": "ff469f3e-3978-4328-bd9b-d9f38fabba46",
   "metadata": {},
   "outputs": [],
   "source": []
  },
  {
   "cell_type": "code",
   "execution_count": null,
   "id": "98070a12-5939-4c95-ac85-654561640cdd",
   "metadata": {},
   "outputs": [],
   "source": []
  },
  {
   "cell_type": "code",
   "execution_count": null,
   "id": "228e2107-2257-4212-ae79-ba814386ce59",
   "metadata": {},
   "outputs": [],
   "source": []
  },
  {
   "cell_type": "code",
   "execution_count": null,
   "id": "8c8092d5-bd3a-435b-b697-9722cbeef1b5",
   "metadata": {},
   "outputs": [],
   "source": []
  },
  {
   "cell_type": "code",
   "execution_count": null,
   "id": "81b58d01-519b-4d97-b686-0d143b5600b5",
   "metadata": {},
   "outputs": [],
   "source": []
  },
  {
   "cell_type": "code",
   "execution_count": null,
   "id": "27700f16-7b81-498e-9a40-15a8467aa36a",
   "metadata": {},
   "outputs": [],
   "source": []
  },
  {
   "cell_type": "code",
   "execution_count": null,
   "id": "adf9e14c-5f9a-4516-a71d-2d2d2a555c8b",
   "metadata": {},
   "outputs": [],
   "source": []
  },
  {
   "cell_type": "code",
   "execution_count": null,
   "id": "2ff8c0cf-4783-40d5-a52b-67a8efce42de",
   "metadata": {},
   "outputs": [],
   "source": []
  },
  {
   "cell_type": "code",
   "execution_count": null,
   "id": "83ee0500-1e84-48ea-ad39-16d7efe1ee79",
   "metadata": {},
   "outputs": [],
   "source": []
  },
  {
   "cell_type": "code",
   "execution_count": null,
   "id": "b5ac3ce2-a6d2-42a0-9d4e-ea32ab4ece9c",
   "metadata": {},
   "outputs": [],
   "source": []
  },
  {
   "cell_type": "code",
   "execution_count": null,
   "id": "8ba8276e-daa0-4f2c-91c3-b055317aac89",
   "metadata": {},
   "outputs": [],
   "source": []
  },
  {
   "cell_type": "code",
   "execution_count": null,
   "id": "5103af03-0ca9-4f07-9309-1557930e4cb2",
   "metadata": {},
   "outputs": [],
   "source": []
  },
  {
   "cell_type": "code",
   "execution_count": null,
   "id": "dbce448a-d446-48ab-83fe-8a24d2616e31",
   "metadata": {},
   "outputs": [],
   "source": []
  },
  {
   "cell_type": "code",
   "execution_count": null,
   "id": "2238afcf-8e6a-4fbd-8a43-390d97774fb7",
   "metadata": {},
   "outputs": [],
   "source": []
  },
  {
   "cell_type": "code",
   "execution_count": null,
   "id": "7b9b0189-6e19-4367-ab7a-bbe0364a1e47",
   "metadata": {},
   "outputs": [],
   "source": []
  },
  {
   "cell_type": "code",
   "execution_count": null,
   "id": "f5911db0-b579-4c2c-b864-acd267b59a41",
   "metadata": {},
   "outputs": [],
   "source": []
  },
  {
   "cell_type": "code",
   "execution_count": null,
   "id": "d6f9773a-ea79-4449-914b-eca56c51942b",
   "metadata": {},
   "outputs": [],
   "source": []
  },
  {
   "cell_type": "code",
   "execution_count": null,
   "id": "970aeaa9-cd53-4da5-9f69-9fa75e180c85",
   "metadata": {},
   "outputs": [],
   "source": []
  },
  {
   "cell_type": "code",
   "execution_count": null,
   "id": "7046ef91-48b7-4264-b326-150b37ca226b",
   "metadata": {},
   "outputs": [],
   "source": []
  },
  {
   "cell_type": "code",
   "execution_count": null,
   "id": "2e31947e-3c74-4a64-87a6-79820a162ff7",
   "metadata": {},
   "outputs": [],
   "source": []
  },
  {
   "cell_type": "code",
   "execution_count": null,
   "id": "0805cae3-d02c-431a-b5da-4674afd58816",
   "metadata": {},
   "outputs": [],
   "source": []
  },
  {
   "cell_type": "code",
   "execution_count": null,
   "id": "5d8c81a3-d24a-47df-bd83-0e538c0c65e1",
   "metadata": {},
   "outputs": [],
   "source": []
  },
  {
   "cell_type": "code",
   "execution_count": null,
   "id": "32d07eae-6f71-4eb9-a1f1-176ed5391e31",
   "metadata": {},
   "outputs": [],
   "source": []
  },
  {
   "cell_type": "code",
   "execution_count": null,
   "id": "be87fb67-8542-4c82-ae64-b88918cb8868",
   "metadata": {},
   "outputs": [],
   "source": []
  },
  {
   "cell_type": "code",
   "execution_count": null,
   "id": "3e74ce07-44b5-4180-aecc-3be6f62f3acb",
   "metadata": {},
   "outputs": [],
   "source": []
  },
  {
   "cell_type": "code",
   "execution_count": null,
   "id": "b2a6784a-6ae7-4180-a701-4d0d9526b258",
   "metadata": {},
   "outputs": [],
   "source": []
  },
  {
   "cell_type": "code",
   "execution_count": null,
   "id": "ae54b0bb-261d-4f92-afa6-0bf82dac1292",
   "metadata": {},
   "outputs": [],
   "source": []
  },
  {
   "cell_type": "code",
   "execution_count": null,
   "id": "09b2ebb5-ceae-46bc-9177-f012f0866653",
   "metadata": {},
   "outputs": [],
   "source": []
  },
  {
   "cell_type": "code",
   "execution_count": null,
   "id": "63a4bc3d-84dd-4ff5-9945-c207c886e8b7",
   "metadata": {},
   "outputs": [],
   "source": []
  },
  {
   "cell_type": "code",
   "execution_count": null,
   "id": "9bde0fbb-39b3-490a-98ad-64882a3cc190",
   "metadata": {},
   "outputs": [],
   "source": []
  },
  {
   "cell_type": "code",
   "execution_count": null,
   "id": "4223c1fa-c00f-4b4b-864c-62df9e580eb2",
   "metadata": {},
   "outputs": [],
   "source": []
  },
  {
   "cell_type": "code",
   "execution_count": null,
   "id": "ed6d030b-20ca-4cc4-9cda-35dd68c98c46",
   "metadata": {},
   "outputs": [],
   "source": [
    "\n"
   ]
  },
  {
   "cell_type": "code",
   "execution_count": null,
   "id": "f3327a84-0a3b-4647-be8a-54f2612663e2",
   "metadata": {},
   "outputs": [],
   "source": []
  },
  {
   "cell_type": "code",
   "execution_count": null,
   "id": "fd9106ad-69f5-4682-b869-a81827d577ef",
   "metadata": {},
   "outputs": [],
   "source": []
  },
  {
   "cell_type": "code",
   "execution_count": null,
   "id": "f87ae292-c517-4668-bc85-0329d529108a",
   "metadata": {},
   "outputs": [],
   "source": [
    "#for i,feature in enumerate(df_from_dict.columns):\n",
    "#    print(i,\" \", feature)"
   ]
  },
  {
   "cell_type": "code",
   "execution_count": null,
   "id": "23e874cc-74ae-434e-8733-5dcd7c28d88b",
   "metadata": {},
   "outputs": [],
   "source": []
  },
  {
   "cell_type": "code",
   "execution_count": null,
   "id": "ac6a455b-60b1-4d24-a51f-08c256ea0680",
   "metadata": {},
   "outputs": [],
   "source": []
  },
  {
   "cell_type": "code",
   "execution_count": null,
   "id": "87e11813-2493-42b2-a1f4-b5a6ae8fae63",
   "metadata": {},
   "outputs": [],
   "source": []
  },
  {
   "cell_type": "code",
   "execution_count": null,
   "id": "d50a639d-078e-4d87-8d35-bc70ffe7c794",
   "metadata": {},
   "outputs": [],
   "source": [
    "\n"
   ]
  },
  {
   "cell_type": "code",
   "execution_count": null,
   "id": "4ab4a100-22a1-4f58-a705-4a354ca1c866",
   "metadata": {},
   "outputs": [],
   "source": []
  },
  {
   "cell_type": "code",
   "execution_count": null,
   "id": "f9ffbcb9-5eba-4029-996b-d3afc73e773a",
   "metadata": {},
   "outputs": [],
   "source": []
  },
  {
   "cell_type": "code",
   "execution_count": null,
   "id": "0540a86f-f8a2-4bb3-af69-7b63a7dd0abb",
   "metadata": {},
   "outputs": [],
   "source": []
  },
  {
   "cell_type": "code",
   "execution_count": null,
   "id": "afa3a291-7ec1-4393-be96-5e0ad8fe61e0",
   "metadata": {},
   "outputs": [],
   "source": [
    "#checks zeros in road , annotate outliers"
   ]
  },
  {
   "cell_type": "code",
   "execution_count": null,
   "id": "5d59e2b6-2541-4291-907b-5216a4159a3e",
   "metadata": {},
   "outputs": [],
   "source": []
  },
  {
   "cell_type": "code",
   "execution_count": null,
   "id": "ce72e636-44f5-474c-9b04-c347edb3440a",
   "metadata": {},
   "outputs": [],
   "source": []
  },
  {
   "cell_type": "code",
   "execution_count": null,
   "id": "2e2b5277-c866-4a16-91f0-9ded48356660",
   "metadata": {},
   "outputs": [],
   "source": []
  },
  {
   "cell_type": "code",
   "execution_count": null,
   "id": "ff046718-fd2c-4cde-89f2-953a7a63c452",
   "metadata": {},
   "outputs": [],
   "source": []
  }
 ],
 "metadata": {
  "kernelspec": {
   "display_name": "Python [conda env:clone_adsml] *",
   "language": "python",
   "name": "conda-env-clone_adsml-py"
  },
  "language_info": {
   "codemirror_mode": {
    "name": "ipython",
    "version": 3
   },
   "file_extension": ".py",
   "mimetype": "text/x-python",
   "name": "python",
   "nbconvert_exporter": "python",
   "pygments_lexer": "ipython3",
   "version": "3.9.7"
  }
 },
 "nbformat": 4,
 "nbformat_minor": 5
}
